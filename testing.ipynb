{
 "cells": [
  {
   "cell_type": "code",
   "execution_count": 7,
   "id": "25317b05-2f0e-4992-8306-566d1a57c733",
   "metadata": {
    "tags": []
   },
   "outputs": [],
   "source": [
    "import pandas as pd\n",
    "import time\n",
    "import ast\n",
    "import os"
   ]
  },
  {
   "cell_type": "code",
   "execution_count": 5,
   "id": "40979e82-9430-4f6b-baf2-8ccd01618e49",
   "metadata": {
    "tags": []
   },
   "outputs": [],
   "source": [
    "feat_df = pd.read_csv('data/feat_df.csv')\n",
    "artist_info = pd.read_csv('data/artist_info.csv')\n",
    "album_tracks = pd.read_csv('data/album_tracks.csv')\n",
    "album_info = pd.read_csv('data/album_info.csv')"
   ]
  },
  {
   "cell_type": "code",
   "execution_count": 11,
   "id": "22b590d7-4836-40d1-8d82-dd2665b9677b",
   "metadata": {
    "tags": []
   },
   "outputs": [
    {
     "name": "stdout",
     "output_type": "stream",
     "text": [
      "File Size in MegaBytes is 100.71657466888428\n"
     ]
    }
   ],
   "source": [
    "file_stats = os.stat('data/feat_df.csv')\n",
    "print(f'File Size in MegaBytes is {file_stats.st_size / (1024 * 1024)}')"
   ]
  },
  {
   "cell_type": "code",
   "execution_count": 88,
   "id": "3ff699ca-da97-4d4a-80ca-8be07c8b51e8",
   "metadata": {
    "tags": []
   },
   "outputs": [],
   "source": [
    "# artist_info.drop(columns = ['Unnamed: 0'], inplace = True)\n",
    "# album_tracks.drop(columns = ['Unnamed: 0'], inplace = True)\n",
    "# artist_info.to_csv('data/artist_info.csv', index = False)\n",
    "# album_tracks.to_csv('data/album_tracks.csv', index = False)\n",
    "# album_tracks\n",
    "# artist_info.loc[artist_info['genres'].apply(lambda x: len(x) < 1)]\n",
    "# artist_info.iloc[-1]['genres']\n",
    "# artist_info['genres'] = artist_info['genres'].apply(ast.literal_eval)\n",
    "# artist_info"
   ]
  },
  {
   "cell_type": "markdown",
   "id": "61608cf8-c309-4f53-b873-d6d448b5a39c",
   "metadata": {
    "tags": []
   },
   "source": [
    "# API Tests"
   ]
  },
  {
   "cell_type": "code",
   "execution_count": 420,
   "id": "cb7648eb-57dc-4368-819a-bbe57ba62496",
   "metadata": {
    "tags": []
   },
   "outputs": [],
   "source": [
    "def api_test(sources, func):\n",
    "    to_add = []\n",
    "    start_time = time.time()\n",
    "    \n",
    "    for item in sources:\n",
    "        to_add.append(func(sp, item))\n",
    "    \n",
    "    print(\"--- %s seconds ---\" % (time.time() - start_time))\n",
    "    print(f'Length of to_add: {len(to_add)} dudes')\n",
    "    \n",
    "    print(to_add)\n",
    "    return(to_add)"
   ]
  },
  {
   "cell_type": "code",
   "execution_count": 358,
   "id": "6c2e6e1d-cf05-48e2-a8a1-7e5e6451d208",
   "metadata": {
    "tags": []
   },
   "outputs": [],
   "source": [
    "from songmellier_mod import api_DF"
   ]
  },
  {
   "cell_type": "code",
   "execution_count": 428,
   "id": "bf651e2c-b695-460a-a290-95568c50e906",
   "metadata": {
    "tags": []
   },
   "outputs": [],
   "source": [
    "from dotenv import load_dotenv\n",
    "import os\n",
    "import spotipy\n",
    "from spotipy.oauth2 import SpotifyClientCredentials\n",
    "\n",
    "load_dotenv(dotenv_path = 'api_cred/spotify.env')\n",
    "\n",
    "cid = os.getenv('cid')\n",
    "secret = os.getenv('secret')\n",
    "\n",
    "client_credentials_manager = SpotifyClientCredentials(client_id = cid, client_secret = secret)\n",
    "sp = spotipy.Spotify(client_credentials_manager = client_credentials_manager)"
   ]
  },
  {
   "cell_type": "code",
   "execution_count": 432,
   "id": "13f60bb7-d1a2-479d-8b59-93adffa52b5d",
   "metadata": {
    "tags": []
   },
   "outputs": [
    {
     "ename": "TypeError",
     "evalue": "APIget.artist_by_name() takes 2 positional arguments but 3 were given",
     "output_type": "error",
     "traceback": [
      "\u001b[1;31m---------------------------------------------------------------------------\u001b[0m",
      "\u001b[1;31mTypeError\u001b[0m                                 Traceback (most recent call last)",
      "Cell \u001b[1;32mIn[432], line 28\u001b[0m\n\u001b[0;32m     25\u001b[0m to_add_artistNames \u001b[38;5;241m=\u001b[39m [\u001b[38;5;124m'\u001b[39m\u001b[38;5;124mLaufey\u001b[39m\u001b[38;5;124m'\u001b[39m, \u001b[38;5;124m'\u001b[39m\u001b[38;5;124mChappell Roan\u001b[39m\u001b[38;5;124m'\u001b[39m]\n\u001b[0;32m     27\u001b[0m APIget \u001b[38;5;241m=\u001b[39m api_DF\u001b[38;5;241m.\u001b[39mAPIget()\n\u001b[1;32m---> 28\u001b[0m \u001b[43mapi_test\u001b[49m\u001b[43m(\u001b[49m\u001b[43mto_add_artistNames\u001b[49m\u001b[43m,\u001b[49m\u001b[43m \u001b[49m\u001b[43mAPIget\u001b[49m\u001b[38;5;241;43m.\u001b[39;49m\u001b[43martist_by_name\u001b[49m\u001b[43m)\u001b[49m\n",
      "Cell \u001b[1;32mIn[432], line 17\u001b[0m, in \u001b[0;36mapi_test\u001b[1;34m(sources, func)\u001b[0m\n\u001b[0;32m     14\u001b[0m start_time \u001b[38;5;241m=\u001b[39m time\u001b[38;5;241m.\u001b[39mtime()\n\u001b[0;32m     16\u001b[0m \u001b[38;5;28;01mfor\u001b[39;00m item \u001b[38;5;129;01min\u001b[39;00m sources:\n\u001b[1;32m---> 17\u001b[0m     to_add\u001b[38;5;241m.\u001b[39mappend(\u001b[43mfunc\u001b[49m\u001b[43m(\u001b[49m\u001b[43msp\u001b[49m\u001b[43m,\u001b[49m\u001b[43m \u001b[49m\u001b[43mitem\u001b[49m\u001b[43m)\u001b[49m)\n\u001b[0;32m     19\u001b[0m \u001b[38;5;28mprint\u001b[39m(\u001b[38;5;124m\"\u001b[39m\u001b[38;5;124m--- \u001b[39m\u001b[38;5;132;01m%s\u001b[39;00m\u001b[38;5;124m seconds ---\u001b[39m\u001b[38;5;124m\"\u001b[39m \u001b[38;5;241m%\u001b[39m (time\u001b[38;5;241m.\u001b[39mtime() \u001b[38;5;241m-\u001b[39m start_time))\n\u001b[0;32m     20\u001b[0m \u001b[38;5;28mprint\u001b[39m(\u001b[38;5;124mf\u001b[39m\u001b[38;5;124m'\u001b[39m\u001b[38;5;124mLength of to_add: \u001b[39m\u001b[38;5;132;01m{\u001b[39;00m\u001b[38;5;28mlen\u001b[39m(to_add)\u001b[38;5;132;01m}\u001b[39;00m\u001b[38;5;124m dudes\u001b[39m\u001b[38;5;124m'\u001b[39m)\n",
      "\u001b[1;31mTypeError\u001b[0m: APIget.artist_by_name() takes 2 positional arguments but 3 were given"
     ]
    }
   ],
   "source": [
    "# to_add = []\n",
    "\n",
    "# start_time = time.time()\n",
    "\n",
    "# for name in to_add_artistNames:\n",
    "#     to_add.append(api_DF.APIget.artist_by_name(sp, name))\n",
    "\n",
    "# print(\"--- %s seconds ---\" % (time.time() - start_time))\n",
    "# print(f'Length of to_add: {len(to_add)} dudes')\n",
    "# to_add\n",
    "\n",
    "def api_test(sources, func):\n",
    "    to_add = []\n",
    "    start_time = time.time()\n",
    "    \n",
    "    for item in sources:\n",
    "        to_add.append(func(sp, item))\n",
    "    \n",
    "    print(\"--- %s seconds ---\" % (time.time() - start_time))\n",
    "    print(f'Length of to_add: {len(to_add)} dudes')\n",
    "    \n",
    "    print(to_add)\n",
    "    return(to_add)\n",
    "\n",
    "to_add_artistNames = ['Laufey', 'Chappell Roan']\n",
    "\n",
    "APIget = api_DF.APIget()\n",
    "api_test(to_add_artistNames, APIget.artist_by_name)"
   ]
  },
  {
   "cell_type": "code",
   "execution_count": 364,
   "id": "c84b536c-24d1-4607-97e2-c161a7b84752",
   "metadata": {
    "tags": []
   },
   "outputs": [
    {
     "name": "stdout",
     "output_type": "stream",
     "text": [
      "An error occured: name 'sp' is not defined for the artist: spotify:artist:7gW0r5CkdEUMm42w9XpyZO\n",
      "An error occured: name 'sp' is not defined for the artist: spotify:artist:7GlBOeep6PqTfFi59PTUUN\n",
      "--- 0.0 seconds ---\n",
      "Length of to_add: 2 dudes\n"
     ]
    },
    {
     "data": {
      "text/plain": [
       "[None, None]"
      ]
     },
     "execution_count": 364,
     "metadata": {},
     "output_type": "execute_result"
    }
   ],
   "source": [
    "# Artist by URI\n",
    "\n",
    "to_add_artistURIs = ['spotify:artist:7gW0r5CkdEUMm42w9XpyZO', 'spotify:artist:7GlBOeep6PqTfFi59PTUUN'] \n",
    "to_add_uris = []\n",
    "\n",
    "start_time = time.time()\n",
    "\n",
    "for uri in to_add_artistURIs:\n",
    "    to_add_uris.append(sp_api.artist_by_uri(uri))\n",
    "\n",
    "print(\"--- %s seconds ---\" % (time.time() - start_time))\n",
    "print(f'Length of to_add: {len(to_add_uris)} dudes')\n",
    "to_add_uris"
   ]
  },
  {
   "cell_type": "code",
   "execution_count": 295,
   "id": "358a6207-3476-4dad-9537-ba0c4913b983",
   "metadata": {
    "tags": []
   },
   "outputs": [],
   "source": [
    "# Artist by playlist(url)\n",
    "to_add_playlists = ['https://open.spotify.com/playlist/37i9dQZF1DX2L0iB23Enbq?si=9c1712c0ec0c475b',\n",
    "                   'https://open.spotify.com/playlist/37i9dQZEVXbLRQDuF5jeBp?si=7fe085dfdf574fc1']\n",
    "to_add_aFp = []\n",
    "\n",
    "start_time = \n",
    "for url in to_add_playlists"
   ]
  },
  {
   "cell_type": "code",
   "execution_count": 291,
   "id": "062d6676-83a7-4c8b-85e0-c5a8924d83ff",
   "metadata": {
    "tags": []
   },
   "outputs": [
    {
     "data": {
      "text/plain": [
       "{'external_urls': {'spotify': 'https://open.spotify.com/artist/7gW0r5CkdEUMm42w9XpyZO'},\n",
       " 'followers': {'href': None, 'total': 4412962},\n",
       " 'genres': ['gen z singer-songwriter'],\n",
       " 'href': 'https://api.spotify.com/v1/artists/7gW0r5CkdEUMm42w9XpyZO',\n",
       " 'id': '7gW0r5CkdEUMm42w9XpyZO',\n",
       " 'images': [{'height': 640,\n",
       "   'url': 'https://i.scdn.co/image/ab6761610000e5eb71eb8f92b86868400ed4e006',\n",
       "   'width': 640},\n",
       "  {'height': 320,\n",
       "   'url': 'https://i.scdn.co/image/ab6761610000517471eb8f92b86868400ed4e006',\n",
       "   'width': 320},\n",
       "  {'height': 160,\n",
       "   'url': 'https://i.scdn.co/image/ab6761610000f17871eb8f92b86868400ed4e006',\n",
       "   'width': 160}],\n",
       " 'name': 'Laufey',\n",
       " 'popularity': 80,\n",
       " 'type': 'artist',\n",
       " 'uri': 'spotify:artist:7gW0r5CkdEUMm42w9XpyZO'}"
      ]
     },
     "execution_count": 291,
     "metadata": {},
     "output_type": "execute_result"
    }
   ],
   "source": [
    "test"
   ]
  },
  {
   "cell_type": "code",
   "execution_count": 187,
   "id": "9d985103-fefe-48ad-b4d3-fa1ecb8e8d02",
   "metadata": {
    "tags": []
   },
   "outputs": [
    {
     "data": {
      "text/html": [
       "<div>\n",
       "<style scoped>\n",
       "    .dataframe tbody tr th:only-of-type {\n",
       "        vertical-align: middle;\n",
       "    }\n",
       "\n",
       "    .dataframe tbody tr th {\n",
       "        vertical-align: top;\n",
       "    }\n",
       "\n",
       "    .dataframe thead th {\n",
       "        text-align: right;\n",
       "    }\n",
       "</style>\n",
       "<table border=\"1\" class=\"dataframe\">\n",
       "  <thead>\n",
       "    <tr style=\"text-align: right;\">\n",
       "      <th></th>\n",
       "      <th>name</th>\n",
       "      <th>artist_uri</th>\n",
       "      <th>popularity</th>\n",
       "      <th>genres</th>\n",
       "      <th>followers</th>\n",
       "    </tr>\n",
       "  </thead>\n",
       "  <tbody>\n",
       "  </tbody>\n",
       "</table>\n",
       "</div>"
      ],
      "text/plain": [
       "Empty DataFrame\n",
       "Columns: [name, artist_uri, popularity, genres, followers]\n",
       "Index: []"
      ]
     },
     "execution_count": 187,
     "metadata": {},
     "output_type": "execute_result"
    }
   ],
   "source": [
    "artist_info[artist_info['name'] == 'Chappell Roan']"
   ]
  },
  {
   "cell_type": "markdown",
   "id": "13a7687e-02aa-40ae-aa6a-cf2c212f75e7",
   "metadata": {},
   "source": [
    "# Model Tests"
   ]
  },
  {
   "cell_type": "code",
   "execution_count": null,
   "id": "c98092cd-b703-4225-8599-f13b92e4fd36",
   "metadata": {},
   "outputs": [],
   "source": []
  }
 ],
 "metadata": {
  "kernelspec": {
   "display_name": "song_dev-kernel",
   "language": "python",
   "name": "song_dev-kernel"
  },
  "language_info": {
   "codemirror_mode": {
    "name": "ipython",
    "version": 3
   },
   "file_extension": ".py",
   "mimetype": "text/x-python",
   "name": "python",
   "nbconvert_exporter": "python",
   "pygments_lexer": "ipython3",
   "version": "3.10.8"
  }
 },
 "nbformat": 4,
 "nbformat_minor": 5
}
