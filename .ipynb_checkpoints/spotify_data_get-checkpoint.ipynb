{
 "cells": [
  {
   "cell_type": "code",
   "execution_count": null,
   "id": "562dca24-ff7b-4d29-9c1d-e6752b7de963",
   "metadata": {},
   "outputs": [],
   "source": [
    "##########\n",
    "# TO DO #\n",
    "#########\n",
    "\n",
    "# 5/21/2024\n",
    "# Adding artist_genres to the feature dataframe\n",
    "#  Could add it when adding tracks \n",
    "#  or just perform it afterwards\n",
    "#    like updating in batches as to avoid long run times on API loops"
   ]
  },
  {
   "cell_type": "code",
   "execution_count": 9,
   "id": "502e570e-e9f5-4206-8171-f969e9231d8a",
   "metadata": {
    "tags": []
   },
   "outputs": [
    {
     "ename": "SpotifyOauthError",
     "evalue": "No client_id. Pass it or set a SPOTIPY_CLIENT_ID environment variable.",
     "output_type": "error",
     "traceback": [
      "\u001b[1;31m---------------------------------------------------------------------------\u001b[0m",
      "\u001b[1;31mSpotifyOauthError\u001b[0m                         Traceback (most recent call last)",
      "Cell \u001b[1;32mIn[9], line 19\u001b[0m\n\u001b[0;32m     16\u001b[0m cid \u001b[38;5;241m=\u001b[39m os\u001b[38;5;241m.\u001b[39mgetenv(\u001b[38;5;124m'\u001b[39m\u001b[38;5;124mcid\u001b[39m\u001b[38;5;124m'\u001b[39m)\n\u001b[0;32m     17\u001b[0m secret \u001b[38;5;241m=\u001b[39m os\u001b[38;5;241m.\u001b[39mgetenv(\u001b[38;5;124m'\u001b[39m\u001b[38;5;124msecret\u001b[39m\u001b[38;5;124m'\u001b[39m)\n\u001b[1;32m---> 19\u001b[0m client_credentials_manager \u001b[38;5;241m=\u001b[39m SpotifyClientCredentials(client_id \u001b[38;5;241m=\u001b[39m cid, client_secret \u001b[38;5;241m=\u001b[39m secret)\n\u001b[0;32m     20\u001b[0m sp \u001b[38;5;241m=\u001b[39m spotipy\u001b[38;5;241m.\u001b[39mSpotify(client_credentials_manager \u001b[38;5;241m=\u001b[39m client_credentials_manager)\n",
      "File \u001b[1;32mC:\\Coding\\IDE\\Anaconda\\Lib\\site-packages\\spotipy\\oauth2.py:201\u001b[0m, in \u001b[0;36mSpotifyClientCredentials.__init__\u001b[1;34m(self, client_id, client_secret, proxies, requests_session, requests_timeout, cache_handler)\u001b[0m\n\u001b[0;32m    172\u001b[0m \u001b[38;5;250m\u001b[39m\u001b[38;5;124;03m\"\"\"\u001b[39;00m\n\u001b[0;32m    173\u001b[0m \u001b[38;5;124;03mCreates a Client Credentials Flow Manager.\u001b[39;00m\n\u001b[0;32m    174\u001b[0m \n\u001b[1;32m   (...)\u001b[0m\n\u001b[0;32m    196\u001b[0m \n\u001b[0;32m    197\u001b[0m \u001b[38;5;124;03m\"\"\"\u001b[39;00m\n\u001b[0;32m    199\u001b[0m \u001b[38;5;28msuper\u001b[39m(SpotifyClientCredentials, \u001b[38;5;28mself\u001b[39m)\u001b[38;5;241m.\u001b[39m\u001b[38;5;21m__init__\u001b[39m(requests_session)\n\u001b[1;32m--> 201\u001b[0m \u001b[38;5;28mself\u001b[39m\u001b[38;5;241m.\u001b[39mclient_id \u001b[38;5;241m=\u001b[39m client_id\n\u001b[0;32m    202\u001b[0m \u001b[38;5;28mself\u001b[39m\u001b[38;5;241m.\u001b[39mclient_secret \u001b[38;5;241m=\u001b[39m client_secret\n\u001b[0;32m    203\u001b[0m \u001b[38;5;28mself\u001b[39m\u001b[38;5;241m.\u001b[39mproxies \u001b[38;5;241m=\u001b[39m proxies\n",
      "File \u001b[1;32mC:\\Coding\\IDE\\Anaconda\\Lib\\site-packages\\spotipy\\oauth2.py:94\u001b[0m, in \u001b[0;36mSpotifyAuthBase.client_id\u001b[1;34m(self, val)\u001b[0m\n\u001b[0;32m     92\u001b[0m \u001b[38;5;129m@client_id\u001b[39m\u001b[38;5;241m.\u001b[39msetter\n\u001b[0;32m     93\u001b[0m \u001b[38;5;28;01mdef\u001b[39;00m \u001b[38;5;21mclient_id\u001b[39m(\u001b[38;5;28mself\u001b[39m, val):\n\u001b[1;32m---> 94\u001b[0m     \u001b[38;5;28mself\u001b[39m\u001b[38;5;241m.\u001b[39m_client_id \u001b[38;5;241m=\u001b[39m _ensure_value(val, \u001b[38;5;124m\"\u001b[39m\u001b[38;5;124mclient_id\u001b[39m\u001b[38;5;124m\"\u001b[39m)\n",
      "File \u001b[1;32mC:\\Coding\\IDE\\Anaconda\\Lib\\site-packages\\spotipy\\oauth2.py:70\u001b[0m, in \u001b[0;36m_ensure_value\u001b[1;34m(value, env_key)\u001b[0m\n\u001b[0;32m     65\u001b[0m \u001b[38;5;28;01mif\u001b[39;00m _val \u001b[38;5;129;01mis\u001b[39;00m \u001b[38;5;28;01mNone\u001b[39;00m:\n\u001b[0;32m     66\u001b[0m     msg \u001b[38;5;241m=\u001b[39m \u001b[38;5;124m\"\u001b[39m\u001b[38;5;124mNo \u001b[39m\u001b[38;5;132;01m%s\u001b[39;00m\u001b[38;5;124m. Pass it or set a \u001b[39m\u001b[38;5;132;01m%s\u001b[39;00m\u001b[38;5;124m environment variable.\u001b[39m\u001b[38;5;124m\"\u001b[39m \u001b[38;5;241m%\u001b[39m (\n\u001b[0;32m     67\u001b[0m         env_key,\n\u001b[0;32m     68\u001b[0m         env_val,\n\u001b[0;32m     69\u001b[0m     )\n\u001b[1;32m---> 70\u001b[0m     \u001b[38;5;28;01mraise\u001b[39;00m SpotifyOauthError(msg)\n\u001b[0;32m     71\u001b[0m \u001b[38;5;28;01mreturn\u001b[39;00m _val\n",
      "\u001b[1;31mSpotifyOauthError\u001b[0m: No client_id. Pass it or set a SPOTIPY_CLIENT_ID environment variable."
     ]
    }
   ],
   "source": [
    "import requests\n",
    "import time\n",
    "import ast\n",
    "\n",
    "import pandas as pd\n",
    "\n",
    "import spotipy\n",
    "from spotipy.oauth2 import SpotifyClientCredentials\n",
    "\n",
    "# Loading in Spotify API credentials\n",
    "from dotenv import load_dotenv\n",
    "import os\n",
    "\n",
    "load_dotenv(dotenv_path = 'api_cred/spotify.env')\n",
    "\n",
    "cid = os.getenv('cid')\n",
    "secret = os.getenv('secret')\n",
    "\n",
    "client_credentials_manager = SpotifyClientCredentials(client_id = cid, client_secret = secret)\n",
    "sp = spotipy.Spotify(client_credentials_manager = client_credentials_manager)"
   ]
  },
  {
   "cell_type": "code",
   "execution_count": 112,
   "id": "70ee7657-c40a-47ff-b611-4c6d7195be3c",
   "metadata": {
    "tags": []
   },
   "outputs": [
    {
     "name": "stdout",
     "output_type": "stream",
     "text": [
      "{'access_token': 'BQALjbfb2eRLqNEcyfTIxBccPs15JvinYnFkas_lVU1raev9t46X8WgWbN9ux0PWWwHIw--7Tt9YX1ZCSTAkyPFoNpN6NKZyDxgrVR8KJZH1vc-WZ0k', 'token_type': 'Bearer', 'expires_in': 3600}\n"
     ]
    }
   ],
   "source": [
    "# Get Access Token\n",
    "\n",
    "AUTH_URL = 'https://accounts.spotify.com/api/token'\n",
    "\n",
    "# POST\n",
    "auth_response = requests.post(AUTH_URL,{\n",
    "    'grant_type': 'client_credentials',\n",
    "    'client_id': cid,\n",
    "    'client_secret': secret\n",
    "})\n",
    "\n",
    "auth_response_data = auth_response.json()\n",
    "access_token = auth_response_data['access_token']\n",
    "sp.auth = access_token\n",
    "\n",
    "print(auth_response_data)"
   ]
  },
  {
   "cell_type": "code",
   "execution_count": null,
   "id": "f8d54ac5-0b43-4846-9c35-3cc9b677e477",
   "metadata": {
    "tags": []
   },
   "outputs": [],
   "source": [
    "# Test API\n",
    "# album_df = pd.read_csv('data/album_info.csv')\n",
    "test = pd.json_normalize(sp.album_tracks('spotify:album:6al2VdKbb6FIz9d7lU7WRB')['items'])\n",
    "test.head()"
   ]
  },
  {
   "cell_type": "code",
   "execution_count": 25,
   "id": "2ecbc668-688d-445c-a0b1-fa519aa95ba0",
   "metadata": {
    "tags": []
   },
   "outputs": [],
   "source": [
    "album_tracks = pd.read_csv('data/album_tracks.csv')\n",
    "# album_df[['album_group', 'album_type', 'type']][album_df.album_group != album_df.album_type]"
   ]
  },
  {
   "cell_type": "code",
   "execution_count": 29,
   "id": "02c6741f-0202-4f33-bdef-ce45eedadf7a",
   "metadata": {
    "tags": []
   },
   "outputs": [
    {
     "data": {
      "text/html": [
       "<div>\n",
       "<style scoped>\n",
       "    .dataframe tbody tr th:only-of-type {\n",
       "        vertical-align: middle;\n",
       "    }\n",
       "\n",
       "    .dataframe tbody tr th {\n",
       "        vertical-align: top;\n",
       "    }\n",
       "\n",
       "    .dataframe thead th {\n",
       "        text-align: right;\n",
       "    }\n",
       "</style>\n",
       "<table border=\"1\" class=\"dataframe\">\n",
       "  <thead>\n",
       "    <tr style=\"text-align: right;\">\n",
       "      <th></th>\n",
       "      <th>name</th>\n",
       "      <th>album_name</th>\n",
       "      <th>album_uri</th>\n",
       "      <th>artists</th>\n",
       "      <th>uri</th>\n",
       "      <th>id</th>\n",
       "      <th>disc_num</th>\n",
       "      <th>song_num</th>\n",
       "      <th>type</th>\n",
       "      <th>duration_ms</th>\n",
       "      <th>explicit</th>\n",
       "      <th>is_local</th>\n",
       "      <th>href</th>\n",
       "      <th>external_urls.spotify</th>\n",
       "    </tr>\n",
       "  </thead>\n",
       "  <tbody>\n",
       "    <tr>\n",
       "      <th>0</th>\n",
       "      <td>Born Singer</td>\n",
       "      <td>Proof</td>\n",
       "      <td>spotify:album:6al2VdKbb6FIz9d7lU7WRB</td>\n",
       "      <td>[{'external_urls': {'spotify': 'https://open.s...</td>\n",
       "      <td>spotify:track:1IthE5GNiRzFN5CVaCa445</td>\n",
       "      <td>1IthE5GNiRzFN5CVaCa445</td>\n",
       "      <td>1</td>\n",
       "      <td>1</td>\n",
       "      <td>track</td>\n",
       "      <td>238628</td>\n",
       "      <td>False</td>\n",
       "      <td>False</td>\n",
       "      <td>https://api.spotify.com/v1/tracks/1IthE5GNiRzF...</td>\n",
       "      <td>https://open.spotify.com/track/1IthE5GNiRzFN5C...</td>\n",
       "    </tr>\n",
       "    <tr>\n",
       "      <th>1</th>\n",
       "      <td>No More Dream</td>\n",
       "      <td>Proof</td>\n",
       "      <td>spotify:album:6al2VdKbb6FIz9d7lU7WRB</td>\n",
       "      <td>[{'external_urls': {'spotify': 'https://open.s...</td>\n",
       "      <td>spotify:track:27S8iOXD7Z58yvJtyk2S9j</td>\n",
       "      <td>27S8iOXD7Z58yvJtyk2S9j</td>\n",
       "      <td>1</td>\n",
       "      <td>2</td>\n",
       "      <td>track</td>\n",
       "      <td>222066</td>\n",
       "      <td>False</td>\n",
       "      <td>False</td>\n",
       "      <td>https://api.spotify.com/v1/tracks/27S8iOXD7Z58...</td>\n",
       "      <td>https://open.spotify.com/track/27S8iOXD7Z58yvJ...</td>\n",
       "    </tr>\n",
       "    <tr>\n",
       "      <th>2</th>\n",
       "      <td>N.O</td>\n",
       "      <td>Proof</td>\n",
       "      <td>spotify:album:6al2VdKbb6FIz9d7lU7WRB</td>\n",
       "      <td>[{'external_urls': {'spotify': 'https://open.s...</td>\n",
       "      <td>spotify:track:2GEnvQgSJhedm2sqZlOP8o</td>\n",
       "      <td>2GEnvQgSJhedm2sqZlOP8o</td>\n",
       "      <td>1</td>\n",
       "      <td>3</td>\n",
       "      <td>track</td>\n",
       "      <td>209751</td>\n",
       "      <td>False</td>\n",
       "      <td>False</td>\n",
       "      <td>https://api.spotify.com/v1/tracks/2GEnvQgSJhed...</td>\n",
       "      <td>https://open.spotify.com/track/2GEnvQgSJhedm2s...</td>\n",
       "    </tr>\n",
       "    <tr>\n",
       "      <th>3</th>\n",
       "      <td>Boy In Luv</td>\n",
       "      <td>Proof</td>\n",
       "      <td>spotify:album:6al2VdKbb6FIz9d7lU7WRB</td>\n",
       "      <td>[{'external_urls': {'spotify': 'https://open.s...</td>\n",
       "      <td>spotify:track:0vMk4IrUfSJQkhwZnVX6us</td>\n",
       "      <td>0vMk4IrUfSJQkhwZnVX6us</td>\n",
       "      <td>1</td>\n",
       "      <td>4</td>\n",
       "      <td>track</td>\n",
       "      <td>231384</td>\n",
       "      <td>False</td>\n",
       "      <td>False</td>\n",
       "      <td>https://api.spotify.com/v1/tracks/0vMk4IrUfSJQ...</td>\n",
       "      <td>https://open.spotify.com/track/0vMk4IrUfSJQkhw...</td>\n",
       "    </tr>\n",
       "    <tr>\n",
       "      <th>4</th>\n",
       "      <td>Danger</td>\n",
       "      <td>Proof</td>\n",
       "      <td>spotify:album:6al2VdKbb6FIz9d7lU7WRB</td>\n",
       "      <td>[{'external_urls': {'spotify': 'https://open.s...</td>\n",
       "      <td>spotify:track:0Q53fuiKLGjDKD7Mme7EoQ</td>\n",
       "      <td>0Q53fuiKLGjDKD7Mme7EoQ</td>\n",
       "      <td>1</td>\n",
       "      <td>5</td>\n",
       "      <td>track</td>\n",
       "      <td>245810</td>\n",
       "      <td>False</td>\n",
       "      <td>False</td>\n",
       "      <td>https://api.spotify.com/v1/tracks/0Q53fuiKLGjD...</td>\n",
       "      <td>https://open.spotify.com/track/0Q53fuiKLGjDKD7...</td>\n",
       "    </tr>\n",
       "  </tbody>\n",
       "</table>\n",
       "</div>"
      ],
      "text/plain": [
       "            name album_name                             album_uri  \\\n",
       "0    Born Singer      Proof  spotify:album:6al2VdKbb6FIz9d7lU7WRB   \n",
       "1  No More Dream      Proof  spotify:album:6al2VdKbb6FIz9d7lU7WRB   \n",
       "2            N.O      Proof  spotify:album:6al2VdKbb6FIz9d7lU7WRB   \n",
       "3     Boy In Luv      Proof  spotify:album:6al2VdKbb6FIz9d7lU7WRB   \n",
       "4         Danger      Proof  spotify:album:6al2VdKbb6FIz9d7lU7WRB   \n",
       "\n",
       "                                             artists  \\\n",
       "0  [{'external_urls': {'spotify': 'https://open.s...   \n",
       "1  [{'external_urls': {'spotify': 'https://open.s...   \n",
       "2  [{'external_urls': {'spotify': 'https://open.s...   \n",
       "3  [{'external_urls': {'spotify': 'https://open.s...   \n",
       "4  [{'external_urls': {'spotify': 'https://open.s...   \n",
       "\n",
       "                                    uri                      id  disc_num  \\\n",
       "0  spotify:track:1IthE5GNiRzFN5CVaCa445  1IthE5GNiRzFN5CVaCa445         1   \n",
       "1  spotify:track:27S8iOXD7Z58yvJtyk2S9j  27S8iOXD7Z58yvJtyk2S9j         1   \n",
       "2  spotify:track:2GEnvQgSJhedm2sqZlOP8o  2GEnvQgSJhedm2sqZlOP8o         1   \n",
       "3  spotify:track:0vMk4IrUfSJQkhwZnVX6us  0vMk4IrUfSJQkhwZnVX6us         1   \n",
       "4  spotify:track:0Q53fuiKLGjDKD7Mme7EoQ  0Q53fuiKLGjDKD7Mme7EoQ         1   \n",
       "\n",
       "   song_num   type  duration_ms  explicit  is_local  \\\n",
       "0         1  track       238628     False     False   \n",
       "1         2  track       222066     False     False   \n",
       "2         3  track       209751     False     False   \n",
       "3         4  track       231384     False     False   \n",
       "4         5  track       245810     False     False   \n",
       "\n",
       "                                                href  \\\n",
       "0  https://api.spotify.com/v1/tracks/1IthE5GNiRzF...   \n",
       "1  https://api.spotify.com/v1/tracks/27S8iOXD7Z58...   \n",
       "2  https://api.spotify.com/v1/tracks/2GEnvQgSJhed...   \n",
       "3  https://api.spotify.com/v1/tracks/0vMk4IrUfSJQ...   \n",
       "4  https://api.spotify.com/v1/tracks/0Q53fuiKLGjD...   \n",
       "\n",
       "                               external_urls.spotify  \n",
       "0  https://open.spotify.com/track/1IthE5GNiRzFN5C...  \n",
       "1  https://open.spotify.com/track/27S8iOXD7Z58yvJ...  \n",
       "2  https://open.spotify.com/track/2GEnvQgSJhedm2s...  \n",
       "3  https://open.spotify.com/track/0vMk4IrUfSJQkhw...  \n",
       "4  https://open.spotify.com/track/0Q53fuiKLGjDKD7...  "
      ]
     },
     "execution_count": 29,
     "metadata": {},
     "output_type": "execute_result"
    }
   ],
   "source": [
    "album_tracks.head()"
   ]
  },
  {
   "cell_type": "markdown",
   "id": "6ba76308-1218-42be-ad7c-be55d5ceec5f",
   "metadata": {
    "tags": []
   },
   "source": [
    "# Artists DF"
   ]
  },
  {
   "cell_type": "markdown",
   "id": "9439e56c-56a9-4557-a9bc-f186a0d120ed",
   "metadata": {
    "tags": []
   },
   "source": [
    "## Get from playlist"
   ]
  },
  {
   "cell_type": "code",
   "execution_count": 5,
   "id": "746e38c2-d4ad-4935-a86e-7b29840c4946",
   "metadata": {
    "tags": []
   },
   "outputs": [],
   "source": [
    "def add_artist_name_from_playlist(playlist_url, artists_list):\n",
    "    try:\n",
    "        playlist_url = playlist_url.rsplit('/', 1)[-1]\n",
    "        playlist = sp.playlist(playlist_url)\n",
    "        for track in playlist['tracks']['items']:\n",
    "            if track['track']['artists'][0]['name'] not in artists_list:\n",
    "                artists_list.append(track['track']['artists'][0]['name'])\n",
    "            else:\n",
    "                pass\n",
    "    except spotipy.exceptions.SpotifyException as e:\n",
    "        print(f'Spotify Exception: {e}')\n",
    "        print(f'Bad link: {playlist_url}')\n",
    "    except Exception as e:\n",
    "        print(f'An error occurred: {e}')"
   ]
  },
  {
   "cell_type": "code",
   "execution_count": 85,
   "id": "8f5ee7a4-30e3-450f-8e5d-2555805924c9",
   "metadata": {
    "tags": []
   },
   "outputs": [],
   "source": [
    "# Only using this to pad out initial list of artists\n",
    "\n",
    "playlist_get = ['https://open.spotify.com/playlist/37i9dQZF1DX6Q49slBRXI2', 'https://open.spotify.com/playlist/37i9dQZF1DX9lzz0FRAxgl', \n",
    "                'https://open.spotify.com/playlist/37i9dQZF1DXdpy4ZQQMZKm', 'https://open.spotify.com/playlist/37i9dQZF1DX4dwwIoKH0j7', \n",
    "                'https://open.spotify.com/playlist/37i9dQZF1DX18jTM2l2fJY', 'https://open.spotify.com/playlist/56r5qRUv3jSxADdmBkhcz7', \n",
    "                'https://open.spotify.com/playlist/5GhQiRkGuqzpWZSE7OU4Se', 'https://open.spotify.com/playlist/2fmTTbBkXi8pewbUvG3CeZ', \n",
    "                'https://open.spotify.com/playlist/37i9dQZF1DWVRSukIED0e9', 'https://open.spotify.com/playlist/37i9dQZF1DXe2bobNYDtW8',\n",
    "                'https://open.spotify.com/playlist/37i9dQZF1DX3Sp0P28SIer', 'https://open.spotify.com/playlist/37i9dQZF1DXcagnSNtrGuJ', \n",
    "                'https://open.spotify.com/playlist/37i9dQZF1DX1vSJnMeoy3V', 'https://open.spotify.com/playlist/37i9dQZF1DWTWdbR13PQYH', \n",
    "                'https://open.spotify.com/playlist/37i9dQZF1DXaW8fzPh9b08', 'https://open.spotify.com/playlist/37i9dQZF1DX0P7PzzKwEKl', \n",
    "                'https://open.spotify.com/playlist/37i9dQZF1DX9Ol4tZWPH6V', 'https://open.spotify.com/playlist/37i9dQZF1DX10zKzsJ2jva', \n",
    "                'https://open.spotify.com/playlist/37i9dQZF1DX4o1oenSJRJd']"
   ]
  },
  {
   "cell_type": "code",
   "execution_count": 87,
   "id": "55cb0933-e7cd-46cf-bf50-b6fe5b53c975",
   "metadata": {
    "tags": []
   },
   "outputs": [
    {
     "name": "stdout",
     "output_type": "stream",
     "text": [
      "--- 69.54240918159485 seconds ---\n",
      "711\n"
     ]
    }
   ],
   "source": [
    "artists_list = []\n",
    "start_time = time.time()\n",
    "\n",
    "for i in playlist_get:\n",
    "    add_artist_name_from_playlist(i, artists_list)\n",
    "    time.sleep(3)\n",
    "    \n",
    "print(\"--- %s seconds ---\" % (time.time() - start_time))\n",
    "print(len(artists_list))\n",
    "\n",
    "# test_url = 'https://open.spotify.com/playlist/37i9dQZF1DX6Q49slBRXI2'\n",
    "# test_url = test_url.rsplit('/', 1)[-1]\n",
    "# playlist = sp.playlist(test_url)"
   ]
  },
  {
   "cell_type": "markdown",
   "id": "eaef1088-7365-4851-9eb1-4ed83681047c",
   "metadata": {
    "jp-MarkdownHeadingCollapsed": true,
    "tags": []
   },
   "source": [
    "## Get by name"
   ]
  },
  {
   "cell_type": "code",
   "execution_count": 722,
   "id": "aa47fe60-9c53-4b9b-a87b-1e1895451b05",
   "metadata": {
    "tags": []
   },
   "outputs": [],
   "source": [
    "def get_artist_info(artist_name):\n",
    "    try:\n",
    "        top_result = sp.search(q = 'artist:' + artist_name, type = 'artist')['artists']['items'][0]\n",
    "        info_dict = {'Name': top_result['name'], 'URI': top_result['uri'], 'Popularity': top_result['popularity'], 'Genres': top_result['genres'], 'Followers': top_result['followers']['total']}\n",
    "        return(info_dict)\n",
    "    except Exception as e:\n",
    "        print(f'An error occured: {e} for the artist: {artist_name}')\n",
    "        return None"
   ]
  },
  {
   "cell_type": "code",
   "execution_count": 814,
   "id": "a7477755-73f7-40dc-bc77-4346a22cb73e",
   "metadata": {
    "tags": []
   },
   "outputs": [
    {
     "name": "stdout",
     "output_type": "stream",
     "text": [
      "artist_info len: 1166\n"
     ]
    }
   ],
   "source": [
    "artist_info = pd.read_csv('data/artist_info.csv')\n",
    "print(f'artist_info len: {len(artist_info)}')"
   ]
  },
  {
   "cell_type": "code",
   "execution_count": 816,
   "id": "2c7f8562-7f09-4378-ab62-b97daa35fedc",
   "metadata": {
    "tags": []
   },
   "outputs": [
    {
     "data": {
      "text/html": [
       "<div>\n",
       "<style scoped>\n",
       "    .dataframe tbody tr th:only-of-type {\n",
       "        vertical-align: middle;\n",
       "    }\n",
       "\n",
       "    .dataframe tbody tr th {\n",
       "        vertical-align: top;\n",
       "    }\n",
       "\n",
       "    .dataframe thead th {\n",
       "        text-align: right;\n",
       "    }\n",
       "</style>\n",
       "<table border=\"1\" class=\"dataframe\">\n",
       "  <thead>\n",
       "    <tr style=\"text-align: right;\">\n",
       "      <th></th>\n",
       "      <th>Name</th>\n",
       "      <th>URI</th>\n",
       "      <th>Popularity</th>\n",
       "      <th>Genres</th>\n",
       "      <th>Followers</th>\n",
       "    </tr>\n",
       "  </thead>\n",
       "  <tbody>\n",
       "  </tbody>\n",
       "</table>\n",
       "</div>"
      ],
      "text/plain": [
       "Empty DataFrame\n",
       "Columns: [Name, URI, Popularity, Genres, Followers]\n",
       "Index: []"
      ]
     },
     "execution_count": 816,
     "metadata": {},
     "output_type": "execute_result"
    }
   ],
   "source": [
    "artist_info[artist_info.duplicated()]\n",
    "# artist_info[artist_info.Name == \"Drake\"]"
   ]
  },
  {
   "cell_type": "code",
   "execution_count": 810,
   "id": "67b7dcb8-ce4e-47bd-95ca-4b95b491b276",
   "metadata": {
    "tags": []
   },
   "outputs": [
    {
     "name": "stdout",
     "output_type": "stream",
     "text": [
      "331\n",
      "--- 37.51091027259827 seconds ---\n",
      "Length of to_add: 331 dudes\n"
     ]
    }
   ],
   "source": [
    "artists_list = [\n",
    "    \"Noriel\", \"Shania Twain\", \"Leon Bridges\", \"MC Ryan SP\", \"PinkPantheress\",\n",
    "    \"Wham!\", \"Electric Light Orchestra\", \"Key Glock\", \"Hugo & Guilherme\", \"ODESZA\",\n",
    "    \"Mon Laferte\", \"La Oreja de Van Gogh\", \"De La Ghetto\", \"Young Miko\", \"Samra\",\n",
    "    \"La Adictiva Banda San José de Mesillas\", \"Dilsinho\", \"The xx\", \"Iggy Azalea\", \"Grupo Marca Registrada\",\n",
    "    \"Seeb\", \"Sido\", \"Cavetown\", \"3 Doors Down\", \"Nick Jonas\",\n",
    "    \"Jubin Nautiyal\", \"Julieta Venegas\", \"Ms. Lauryn Hill\", \"Ghost\", \"Dean Martin\",\n",
    "    \"Of Monsters and Men\", \"keshi\", \"Gwen Stefani\", \"Joyner Lucas\", \"V\",\n",
    "    \"Jon Pardi\", \"Bing Crosby\", \"Kontra K\", \"Latto\", \"M83\",\n",
    "    \"Juan Luis Guerra 4.40\", \"JVKE\", \"BONES\", \"Shreya Ghoshal\", \"Ali Gatie\",\n",
    "    \"The Goo Goo Dolls\", \"NIKI\", \"Mother Mother\", \"Marilyn Manson\", \"Tulus\",\n",
    "    \"WALK THE MOON\", \"Nat King Cole\", \"Jon Bellion\", \"Rich The Kid\", \"Brytiago\",\n",
    "    \"Sade\", \"Dido\", \"Mötley Crüe\", \"Guilherme & Benuto\", \"Alice In Chains\",\n",
    "    \"d4vd\", \"Lofi Fruits Music\", \"Sufjan Stevens\", \"Canserbero\", \"a-ha\",\n",
    "    \"Ella Henderson\", \"Sleeping At Last\", \"Stormzy\", \"Pedro Capó\", \"Juan Magán\",\n",
    "    \"Cosculluela\", \"Chayanne\", \"Queens of the Stone Age\", \"Yuridia\", \"Mustard\",\n",
    "    \"Ke Personajes\", \"Ghostemane\", \"The Clash\", \"Pineapple StormTv\", \"Powfu\",\n",
    "    \"Gustavo Mioto\", \"Rascal Flatts\", \"CRO\", \"iann dior\", \"Ñengo Flow\",\n",
    "    \"Young Dolph\", \"Intocable\", \"Timmy Trumpet\", \"Ella Mai\", \"Aleman\",\n",
    "    \"Darshan Raval\", \"Santana\", \"Ezhel\", \"Kylie Minogue\", \"John Lennon\",\n",
    "    \"Westlife\", \"Louis Armstrong\", \"Natalia Lafourcade\", \"KYLE\", \"Axwell / Ingrosso\",\n",
    "    \"Two Feet\", \"Yung Gravy\", \"IU\", \"David Bisbal\", \"Louis Tomlinson\",\n",
    "    \"Two Door Cinema Club\", \"Milo j\", \"MC Kevin o Chris\", \"Israel & Rodolffo\", \"Gazo\",\n",
    "    \"Benjamin Blümchen\", \"Mari Fernandez\", \"Mambo Kingz\", \"Taio Cruz\", \"Colbie Caillat\",\n",
    "    \"Bill Withers\", \"Casper Magico\", \"Beach House\", \"Lee Brice\", \"Cali Y El Dandee\",\n",
    "    \"Annie Lennox\", \"Kevin Kaarl\", \"Roxette\", \"Timbaland\", \"ITZY\",\n",
    "    \"Owl City\", \"AURORA\", \"Fergie\", \"Beret\", \"DJ Luian\",\n",
    "    \"Los Enanitos Verdes\", \"DMX\", \"Falling In Reverse\", \"Miranda Lambert\", \"Astrid S\",\n",
    "    \"Don Diablo\", \"Benson Boone\", \"Gigi D'Agostino\", \"The Pussycat Dolls\", \"Los Dos Carnales\",\n",
    "    \"Nekfeu\", \"Sting\", \"Tee Grizzley\", \"BoyWithUke\", \"Stephen Sanchez\",\n",
    "    \"Sin Bandera\", \"Matoma\", \"Badshah\", \"Pierce The Veil\", \"Hardwell\",\n",
    "    \"Sean Kingston\", \"Old Dominion\", \"Booba\", \"Official HIGE DANdism\", \"KK\",\n",
    "    \"Cody Johnson\", \"Boney M.\", \"Sachin-Jigar\", \"Deorro\", \"Los Bukis\",\n",
    "    \"Mc Don Juan\", \"Alex Rose\", \"Loud Luxury\", \"LE SSERAFIM\", \"PLK\",\n",
    "    \"The Kooks\", \"Incubus\", \"Vintage Culture\", \"Cyndi Lauper\", \"Diego & Victor Hugo\",\n",
    "    \"PnB Rock\", \"Niska\", \"Selena\", \"Denzel Curry\", \"Conor Maynard\",\n",
    "    \"NCT DREAM\", \"Dierks Bentley\", \"ANAVITÓRIA\", \"Oscar Maydon\", \"Jelly Roll\",\n",
    "    \"Ferrugem\", \"Yuvan Shankar Raja\", \"The Who\", \"Calle 13\", \"Ben Howard\",\n",
    "    \"Portugal. The Man\", \"Snow Patrol\", \"Wallows\", \"Lionel Richie\", \"Afrojack\",\n",
    "    \"Hungria Hip Hop\", \"Kungs\", \"Yusuf / Cat Stevens\", \"Kevin Roldan\", \"Camila\",\n",
    "    \"Tina Turner\", \"Quinn XCII\", \"A7S\", \"UZI\", \"Blessd\",\n",
    "    \"Jaymes Young\", \"Ofenbach\", \"Filipe Ret\", \"Arizona Zervas\", \"Saweetie\",\n",
    "    \"John Newman\", \"L7NNON\", \"Ice Spice\", \"Chelsea Cutler\", \"Dread Mar I\",\n",
    "    \"Die drei !!!\", \"The Jackson 5\", \"NCT 127\", \"Karan Aujla\", \"Vampire Weekend\",\n",
    "    \"Jessie Reyez\", \"Seether\", \"Jesús Adrián Romero\", \"Surfaces\", \"Jaden\",\n",
    "    \"Ciara\", \"Jordan Davis\", \"Wale\", \"fun.\", \"Martin Jensen\",\n",
    "    \"KALEO\", \"Lazza\", \"Lady A\", \"Internet Money\", \"Bronco\",\n",
    "    \"Otis Redding\", \"Tracy Chapman\", \"Fred again..\", \"Hombres G\", \"Granular\",\n",
    "    \"gnash\", \"Daya\", \"Willy William\", \"Thiaguinho\", \"RÜFÜS DU SOL\",\n",
    "    \"Sid Sriram\", \"Pixies\", \"Sezen Aksu\", \"Beastie Boys\", \"Mary J. Blige\",\n",
    "    \"Gloria Trevi\", \"DENNIS\", \"R. Kelly\", \"*NSYNC\", \"Regard\",\n",
    "    \"WizKid\", \"Mrs. GREEN APPLE\", \"Blur\", \"Emilia\", \"Simple Plan\",\n",
    "    \"Kollegah\", \"Thalia\", \"Summer Cem\", \"Olly Murs\", \"Tech N9ne\",\n",
    "    \"Diljit Dosanjh\", \"LIT killah\", \"Ben&Ben\", \"ZZ Top\", \"Nina Simone\",\n",
    "    \"Toby Keith\", \"Pepe Aguilar\", \"Paul Simon\", \"Gustavo Cerati\", \"Trevor Daniel\",\n",
    "    \"Leona Lewis\", \"Sonu Nigam\", \"James TW\", \"Lenny Kravitz\", \"OMI\",\n",
    "    \"deadmau5\", \"Dadju\", \"Carla Morrison\", \"The Score\", \"Oliver Heldens\",\n",
    "    \"Bo Burnham\", \"Simone Sommerland\", \"Dynoro\", \"Maren Morris\", \"ATEEZ\",\n",
    "    \"AJ Tracey\", \"Djadja & Dinaz\", \"Sofía Reyes\", \"Mike Perry\", \"JID\",\n",
    "    \"Kina\", \"SCH\", \"Supertramp\", \"Laura Pausini\", \"MC Kevinho\",\n",
    "    \"Chris Young\", \"Shubh\", \"MAGIC!\", \"Cristian Castro\", \"Capo Plaza\",\n",
    "    \"Cher\", \"Blueface\", \"Freddie Dredd\", \"Karsten Glück\", \"Bullet For My Valentine\",\n",
    "    \"Sara Bareilles\", \"Lauren Daigle\", \"Gabry Ponte\", \"John Denver\", \"MKTO\",\n",
    "    \"Banda Los Recoditos\", \"Desiigner\", \"Tom Petty\", \"João Gomes\", \"Kelsea Ballerini\",\n",
    "    \"Zé Felipe\", \"Cuco\", \"ONE OK ROCK\", \"RADWIMPS\", \"Sorriso Maroto\",\n",
    "    \"Neha Kakkar\", \"$NOT\", \"Foreigner\", \"Andrea Bocelli\", \"Dennis Lloyd\",\n",
    "    \"PEDRO SAMPAIO\", \"Kate Bush\", \"Darell\", \"VIZE\", \"Audioslave\",\n",
    "    \"CKay\"\n",
    "]\n",
    "\n",
    "print(len(artists_list))\n",
    "\n",
    "start_time = time.time()\n",
    "to_add_artist_info = []\n",
    "\n",
    "for name in artists_list:\n",
    "    if name not in artist_info['Name']:\n",
    "        to_add_artist_info.append(get_artist_info(name))\n",
    "    else:\n",
    "        pass\n",
    "\n",
    "print(\"--- %s seconds ---\" % (time.time() - start_time))\n",
    "print(f'Length of to_add: {len(to_add_artist_info)} dudes')"
   ]
  },
  {
   "cell_type": "code",
   "execution_count": 728,
   "id": "7eec6064-ed8d-4edd-acc4-b755da133a5e",
   "metadata": {
    "tags": []
   },
   "outputs": [
    {
     "name": "stdout",
     "output_type": "stream",
     "text": [
      "--- 156.00960111618042 seconds ---\n",
      "Length of to_add: 92 dudes\n"
     ]
    }
   ],
   "source": [
    "ad_hoc_artists_list = ['George Michael', 'Wham!', 'The Jacksons', 'The Jackson 5']\n",
    "\n",
    "for name in ad_hoc_artists_list:\n",
    "    if name not in artist_info['Name']:\n",
    "        to_add_artist_info.append(get_artist_info(name))\n",
    "    else:\n",
    "        pass\n",
    "\n",
    "print(f'Length of to_add: {len(to_add_artist_info)} dudes')"
   ]
  },
  {
   "cell_type": "code",
   "execution_count": 818,
   "id": "353e8d2d-ffeb-4933-bdf3-f702d5a50c63",
   "metadata": {
    "tags": []
   },
   "outputs": [
    {
     "name": "stdout",
     "output_type": "stream",
     "text": [
      "Old len: 1166\n",
      "New len: 1166\n"
     ]
    }
   ],
   "source": [
    "artist_info_add = pd.json_normalize(to_add_artist_info)\n",
    "print(f'Old len: {len(artist_info)}')\n",
    "artist_info_new = pd.concat([artist_info, artist_info_add], ignore_index = True)\n",
    "\n",
    "for col in artist_info_new.columns:\n",
    "    if artist_info_new[col].apply(lambda x: isinstance(x, list)).any():\n",
    "        artist_info_new[col] = artist_info_new[col].apply(str)\n",
    "\n",
    "artist_info_new = artist_info_new.drop_duplicates(subset = ['URI'])\n",
    "\n",
    "print(f'New len: {len(artist_info_new)}')\n",
    "artist_info_new.to_csv('data/artist_info.csv', index = False)"
   ]
  },
  {
   "cell_type": "markdown",
   "id": "eb5e5171-f1ee-4e89-9321-039e1d49322d",
   "metadata": {
    "jp-MarkdownHeadingCollapsed": true,
    "tags": []
   },
   "source": [
    "## Get by URI"
   ]
  },
  {
   "cell_type": "code",
   "execution_count": 5,
   "id": "82ca82d4-d63a-4964-8f8e-be801031376a",
   "metadata": {
    "tags": []
   },
   "outputs": [
    {
     "name": "stdout",
     "output_type": "stream",
     "text": [
      "artist_df len: 1166\n"
     ]
    }
   ],
   "source": [
    "artist_df = pd.read_csv('data/artist_info.csv')\n",
    "print(f'artist_df len: {len(artist_df)}')"
   ]
  },
  {
   "cell_type": "code",
   "execution_count": 173,
   "id": "fb883805-72c6-48b0-8f3e-dfff95da008b",
   "metadata": {
    "tags": []
   },
   "outputs": [
    {
     "name": "stdout",
     "output_type": "stream",
     "text": [
      "artist_df len: 13269\n"
     ]
    }
   ],
   "source": [
    "album_df = pd.read_csv('data/album_info.csv')\n",
    "album_df.drop_duplicates(inplace = True)\n",
    "album_df.loc[:, 'artist_name'] = album_df.artists.apply(lambda x: [artist['name'] for artist in ast.literal_eval(x)])\n",
    "album_df.loc[:, 'artist_uri'] = album_df.artists.apply(lambda x: [artist['uri'] for artist in ast.literal_eval(x)])\n",
    "print(f'artist_df len: {len(album_df)}')\n",
    "# album_df.head()"
   ]
  },
  {
   "cell_type": "code",
   "execution_count": 169,
   "id": "2564f5c9-0d74-4a9e-9333-8423c008e7a3",
   "metadata": {
    "tags": []
   },
   "outputs": [
    {
     "name": "stdout",
     "output_type": "stream",
     "text": [
      "2354\n",
      "2354\n",
      "True\n"
     ]
    }
   ],
   "source": [
    "# Finding artists not in the file\n",
    "alb_artists = set()\n",
    "\n",
    "for artists in album_df['artist_uri']:\n",
    "    for art in artists:\n",
    "        alb_artists.add(art)\n",
    "\n",
    "artists_in_df = set(artist_df['URI'])\n",
    "\n",
    "artists_not_in = alb_artists.difference(artists_in_df)\n",
    "\n",
    "check_artists = set()\n",
    "\n",
    "for i in artists_not_in:\n",
    "    if artist_df['URI'].eq(i).any() == True:\n",
    "        pass\n",
    "    else:\n",
    "        check_artists.add(i)\n",
    "\n",
    "print(len(check_artists))\n",
    "print(len(artists_not_in))\n",
    "print(check_artists == artists_not_in)"
   ]
  },
  {
   "cell_type": "code",
   "execution_count": 185,
   "id": "8e3b03bc-a17c-47eb-94c9-03a0649fcb12",
   "metadata": {
    "tags": []
   },
   "outputs": [],
   "source": [
    "def get_artist_uri(artist_uri):\n",
    "    try:\n",
    "        response = sp.artist(artist_uri)\n",
    "        info_dict = {'Name': response['name'], \n",
    "                     'URI': response['uri'], \n",
    "                     'Popularity': response['popularity'], \n",
    "                     'Genres': response['genres'], \n",
    "                     'Followers': response['followers']['total']}\n",
    "        return(info_dict)\n",
    "    except Exception as e:\n",
    "        print(f'An error occured: {e} for the artist: {artist_uri}')\n",
    "        return None"
   ]
  },
  {
   "cell_type": "code",
   "execution_count": 211,
   "id": "edd8ea8f-f276-466b-b85e-29734c65f6ef",
   "metadata": {
    "tags": []
   },
   "outputs": [
    {
     "name": "stdout",
     "output_type": "stream",
     "text": [
      "--- 199.49376678466797 seconds ---\n",
      "Length of add_artists_from_albums: 2354 dudes\n"
     ]
    }
   ],
   "source": [
    "# Completed\n",
    "\n",
    "start_time = time.time()\n",
    "add_artists_from_albums = []\n",
    "\n",
    "for art_uri in artists_not_in:\n",
    "    add_artists_from_albums.append(get_artist_uri(art_uri))\n",
    "\n",
    "print(\"--- %s seconds ---\" % (time.time() - start_time))\n",
    "print(f'Length of add_artists_from_albums: {len(add_artists_from_albums)} dudes')"
   ]
  },
  {
   "cell_type": "code",
   "execution_count": 221,
   "id": "24716274-64c1-4c43-a42b-c60c3379c21a",
   "metadata": {
    "tags": []
   },
   "outputs": [
    {
     "name": "stdout",
     "output_type": "stream",
     "text": [
      "Old len: 1166\n",
      "New len: 3519\n"
     ]
    }
   ],
   "source": [
    "artist_info_add = pd.json_normalize(add_artists_from_albums)\n",
    "print(f'Old len: {len(artist_df)}')\n",
    "artist_info_new = pd.concat([artist_df, artist_info_add], ignore_index = True)\n",
    "\n",
    "for col in artist_info_new.columns:\n",
    "    if artist_info_new[col].apply(lambda x: isinstance(x, list)).any():\n",
    "        artist_info_new[col] = artist_info_new[col].apply(str)\n",
    "\n",
    "artist_info_new = artist_info_new.drop_duplicates(subset = ['URI'])\n",
    "\n",
    "print(f'New len: {len(artist_info_new)}')\n",
    "artist_info_new.to_csv('data/artist_info.csv', index = False)"
   ]
  },
  {
   "cell_type": "code",
   "execution_count": 179,
   "id": "d1faf236-b339-4785-99a2-8e3bd16c16a5",
   "metadata": {
    "tags": []
   },
   "outputs": [],
   "source": [
    "test_response = sp.artist('spotify:artist:23aPUZaR8bESXN4UD3T2Sx')"
   ]
  },
  {
   "cell_type": "code",
   "execution_count": 193,
   "id": "85bb3d4e-3556-460e-8014-734e04ea1802",
   "metadata": {
    "tags": []
   },
   "outputs": [],
   "source": [
    "test_func = get_artist_uri('spotify:artist:23aPUZaR8bESXN4UD3T2Sx')"
   ]
  },
  {
   "cell_type": "code",
   "execution_count": 195,
   "id": "3b9e6754-3514-46c7-9a21-f092083ce8ad",
   "metadata": {
    "tags": []
   },
   "outputs": [
    {
     "data": {
      "text/plain": [
       "{'Name': '香取慎吾',\n",
       " 'URI': 'spotify:artist:23aPUZaR8bESXN4UD3T2Sx',\n",
       " 'Popularity': 29,\n",
       " 'Genres': [],\n",
       " 'Followers': 25129}"
      ]
     },
     "execution_count": 195,
     "metadata": {},
     "output_type": "execute_result"
    }
   ],
   "source": [
    "test_func"
   ]
  },
  {
   "cell_type": "code",
   "execution_count": 181,
   "id": "48a8f05e-7fb7-46d6-8ddb-00b1164333ec",
   "metadata": {
    "tags": []
   },
   "outputs": [
    {
     "data": {
      "text/plain": [
       "{'external_urls': {'spotify': 'https://open.spotify.com/artist/23aPUZaR8bESXN4UD3T2Sx'},\n",
       " 'followers': {'href': None, 'total': 25129},\n",
       " 'genres': [],\n",
       " 'href': 'https://api.spotify.com/v1/artists/23aPUZaR8bESXN4UD3T2Sx',\n",
       " 'id': '23aPUZaR8bESXN4UD3T2Sx',\n",
       " 'images': [{'height': 640,\n",
       "   'url': 'https://i.scdn.co/image/ab6761610000e5ebb08fef18649cc4c3b2396258',\n",
       "   'width': 640},\n",
       "  {'height': 320,\n",
       "   'url': 'https://i.scdn.co/image/ab67616100005174b08fef18649cc4c3b2396258',\n",
       "   'width': 320},\n",
       "  {'height': 160,\n",
       "   'url': 'https://i.scdn.co/image/ab6761610000f178b08fef18649cc4c3b2396258',\n",
       "   'width': 160}],\n",
       " 'name': '香取慎吾',\n",
       " 'popularity': 29,\n",
       " 'type': 'artist',\n",
       " 'uri': 'spotify:artist:23aPUZaR8bESXN4UD3T2Sx'}"
      ]
     },
     "execution_count": 181,
     "metadata": {},
     "output_type": "execute_result"
    }
   ],
   "source": [
    "test_response"
   ]
  },
  {
   "cell_type": "markdown",
   "id": "d32d3440-b7b7-4d3f-8b67-8907644005cc",
   "metadata": {
    "jp-MarkdownHeadingCollapsed": true,
    "tags": []
   },
   "source": [
    "# Albums df"
   ]
  },
  {
   "cell_type": "code",
   "execution_count": 15,
   "id": "ed844c3d-329c-42e3-941c-775b3c48a7ff",
   "metadata": {
    "tags": []
   },
   "outputs": [],
   "source": [
    "def get_albums(artist_uri):\n",
    "    results = sp.artist_albums(artist_uri)\n",
    "    all_albums = []\n",
    "    try:\n",
    "        for album in results['items']:\n",
    "            all_albums.append({'name': album['name'],\n",
    "                               'id': album['id'],\n",
    "                               'uri': album['uri'],\n",
    "                               'album_group': album['album_group'],\n",
    "                               'album_type': album['album_type'],\n",
    "                               'type': album['type'],\n",
    "                               'artists': album['artists'],\n",
    "                               'release_date': album['release_date'],\n",
    "                               'release_date_precision': album['release_date_precision'],\n",
    "                               'total_tracks': album['total_tracks'],\n",
    "                               'external_urls': album['external_urls'],\n",
    "                               'artist_name': [artist['name'] for artist in album['artists']],\n",
    "                               'artist_uri': [artist['uri'] for artist in album['artists']]\n",
    "                              })\n",
    "        return(all_albums)\n",
    "    except Exception as e:\n",
    "        print(f\"An error occured: {e} for the album: {album['name']}\")\n",
    "        return None"
   ]
  },
  {
   "cell_type": "code",
   "execution_count": null,
   "id": "d9c40949-707b-46a2-910d-28245832ea7b",
   "metadata": {},
   "outputs": [],
   "source": [
    "#############\n",
    "# Completed #\n",
    "#############\n",
    "\n",
    "# Initial run\n",
    "#  711 artists -> 13,841 albums: 184.90106439590454 seconds\n",
    "\n",
    "# Since then, the artist_df file has been revamped so need to find the difference in artists"
   ]
  },
  {
   "cell_type": "code",
   "execution_count": 11,
   "id": "6b654901-17a4-4d99-a100-39eabd9214b5",
   "metadata": {
    "tags": []
   },
   "outputs": [
    {
     "name": "stdout",
     "output_type": "stream",
     "text": [
      "35232\n"
     ]
    }
   ],
   "source": [
    "artist_df = pd.read_csv('data/artist_info.csv')\n",
    "album_df = pd.read_csv('data/album_info.csv')\n",
    "# album_df.loc[:, 'artist_name'] = album_df.artists.apply(lambda x: [artist['name'] for artist in ast.literal_eval(x)])\n",
    "# album_df.loc[:, 'artist_uri'] = album_df.artists.apply(lambda x: [artist['uri'] for artist in ast.literal_eval(x)])\n",
    "print(len(album_df))"
   ]
  },
  {
   "cell_type": "code",
   "execution_count": null,
   "id": "89d62fe9-2355-4c9d-88c0-e72160f7edf4",
   "metadata": {},
   "outputs": [],
   "source": [
    "# Completed\n",
    "\n",
    "# artist_df[0:2000]['URI'] -> 573.5985157489777 seconds, 37557 albums"
   ]
  },
  {
   "cell_type": "code",
   "execution_count": 13,
   "id": "010c7bdb-9823-4f79-954c-17f4f479c526",
   "metadata": {},
   "outputs": [
    {
     "ename": "NameError",
     "evalue": "name 'get_albums' is not defined",
     "output_type": "error",
     "traceback": [
      "\u001b[1;31m---------------------------------------------------------------------------\u001b[0m",
      "\u001b[1;31mNameError\u001b[0m                                 Traceback (most recent call last)",
      "Cell \u001b[1;32mIn[13], line 5\u001b[0m\n\u001b[0;32m      2\u001b[0m album_list \u001b[38;5;241m=\u001b[39m []\n\u001b[0;32m      4\u001b[0m \u001b[38;5;28;01mfor\u001b[39;00m art_uri \u001b[38;5;129;01min\u001b[39;00m artist_df[\u001b[38;5;241m2000\u001b[39m:\u001b[38;5;241m4000\u001b[39m][\u001b[38;5;124m'\u001b[39m\u001b[38;5;124mURI\u001b[39m\u001b[38;5;124m'\u001b[39m]:\n\u001b[1;32m----> 5\u001b[0m     response \u001b[38;5;241m=\u001b[39m get_albums(art_uri)\n\u001b[0;32m      6\u001b[0m     album_list\u001b[38;5;241m.\u001b[39mextend(response)\n\u001b[0;32m      8\u001b[0m \u001b[38;5;28mprint\u001b[39m(\u001b[38;5;124m\"\u001b[39m\u001b[38;5;124m--- \u001b[39m\u001b[38;5;132;01m%s\u001b[39;00m\u001b[38;5;124m seconds ---\u001b[39m\u001b[38;5;124m\"\u001b[39m \u001b[38;5;241m%\u001b[39m (time\u001b[38;5;241m.\u001b[39mtime() \u001b[38;5;241m-\u001b[39m start_time))\n",
      "\u001b[1;31mNameError\u001b[0m: name 'get_albums' is not defined"
     ]
    }
   ],
   "source": [
    "start_time = time.time()\n",
    "album_list = []\n",
    "\n",
    "for art_uri in artist_df[2000:4000]['URI']:\n",
    "    response = get_albums(art_uri)\n",
    "    album_list.extend(response)\n",
    "\n",
    "print(\"--- %s seconds ---\" % (time.time() - start_time))\n",
    "print(f'Length of add_artists_from_albums: {len(album_list)} albums')"
   ]
  },
  {
   "cell_type": "code",
   "execution_count": null,
   "id": "dd1a9770-1c54-41e5-8adb-4ad4840d2cc2",
   "metadata": {},
   "outputs": [],
   "source": [
    "## Initial run\n",
    "# album_list = []\n",
    "# artist_df = artist_df.dropna()\n",
    "\n",
    "# start_time = time.time()\n",
    "\n",
    "# for uri in artist_df['URI']:\n",
    "#     album_list += get_albums(uri)\n",
    "    \n",
    "# print(\"--- %s seconds ---\" % (time.time() - start_time))\n",
    "# print(f'album_list len: {len(album_list)}')\n",
    "\n",
    "# # 711 artists -> 13,841 albums: 184.90106439590454 seconds"
   ]
  },
  {
   "cell_type": "code",
   "execution_count": null,
   "id": "44f39e4d-74e3-4ab4-8ca9-9ddc2a8b6e16",
   "metadata": {
    "tags": []
   },
   "outputs": [],
   "source": [
    "add_album_df = pd.json_normalize(album_list)\n",
    "\n",
    "print(f'Old len: {len(album_df)}')\n",
    "album_df_new = pd.concat([album_df, add_album_df], ignore_index = True)\n",
    "album_df_new['artist_name'] = album_df_new['artist_name'].apply(str)\n",
    "album_df_new['artist_uri'] = album_df_new['artist_uri'].apply(str)\n",
    "album_df_new = album_df_new.drop_duplicates(subset = 'uri')\n",
    "album_df_new['artist_name'] = album_df_new['artist_name'].apply(ast.literal_eval)\n",
    "album_df_new['artist_uri'] = album_df_new['artist_uri'].apply(ast.literal_eval)\n",
    "print(f'New len: {len(album_df_new)}')\n",
    "album_df_new.to_csv('data/album_info.csv', index = False)"
   ]
  },
  {
   "cell_type": "code",
   "execution_count": 331,
   "id": "c071fdf0-9fb5-4d3f-834a-c3776a488cae",
   "metadata": {
    "tags": []
   },
   "outputs": [
    {
     "data": {
      "text/html": [
       "<div>\n",
       "<style scoped>\n",
       "    .dataframe tbody tr th:only-of-type {\n",
       "        vertical-align: middle;\n",
       "    }\n",
       "\n",
       "    .dataframe tbody tr th {\n",
       "        vertical-align: top;\n",
       "    }\n",
       "\n",
       "    .dataframe thead th {\n",
       "        text-align: right;\n",
       "    }\n",
       "</style>\n",
       "<table border=\"1\" class=\"dataframe\">\n",
       "  <thead>\n",
       "    <tr style=\"text-align: right;\">\n",
       "      <th></th>\n",
       "      <th>name</th>\n",
       "      <th>id</th>\n",
       "      <th>uri</th>\n",
       "      <th>album_group</th>\n",
       "      <th>album_type</th>\n",
       "      <th>type</th>\n",
       "      <th>artists</th>\n",
       "      <th>release_date</th>\n",
       "      <th>release_date_precision</th>\n",
       "      <th>total_tracks</th>\n",
       "      <th>artist_name</th>\n",
       "      <th>artist_uri</th>\n",
       "      <th>external_urls.spotify</th>\n",
       "    </tr>\n",
       "  </thead>\n",
       "  <tbody>\n",
       "    <tr>\n",
       "      <th>0</th>\n",
       "      <td>Proof</td>\n",
       "      <td>6al2VdKbb6FIz9d7lU7WRB</td>\n",
       "      <td>spotify:album:6al2VdKbb6FIz9d7lU7WRB</td>\n",
       "      <td>album</td>\n",
       "      <td>album</td>\n",
       "      <td>album</td>\n",
       "      <td>[{'external_urls': {'spotify': 'https://open.s...</td>\n",
       "      <td>2022-06-10</td>\n",
       "      <td>day</td>\n",
       "      <td>35</td>\n",
       "      <td>[BTS]</td>\n",
       "      <td>[spotify:artist:3Nrfpe0tUJi4K4DXYWgMUX]</td>\n",
       "      <td>https://open.spotify.com/album/6al2VdKbb6FIz9d...</td>\n",
       "    </tr>\n",
       "    <tr>\n",
       "      <th>1</th>\n",
       "      <td>BE</td>\n",
       "      <td>6nYfHQnvkvOTNHnOhDT3sr</td>\n",
       "      <td>spotify:album:6nYfHQnvkvOTNHnOhDT3sr</td>\n",
       "      <td>album</td>\n",
       "      <td>album</td>\n",
       "      <td>album</td>\n",
       "      <td>[{'external_urls': {'spotify': 'https://open.s...</td>\n",
       "      <td>2020-11-20</td>\n",
       "      <td>day</td>\n",
       "      <td>8</td>\n",
       "      <td>[BTS]</td>\n",
       "      <td>[spotify:artist:3Nrfpe0tUJi4K4DXYWgMUX]</td>\n",
       "      <td>https://open.spotify.com/album/6nYfHQnvkvOTNHn...</td>\n",
       "    </tr>\n",
       "    <tr>\n",
       "      <th>2</th>\n",
       "      <td>MAP OF THE SOUL : 7 ~ THE JOURNEY ~</td>\n",
       "      <td>1nScVw87kRJiT2bg2Kswhp</td>\n",
       "      <td>spotify:album:1nScVw87kRJiT2bg2Kswhp</td>\n",
       "      <td>album</td>\n",
       "      <td>album</td>\n",
       "      <td>album</td>\n",
       "      <td>[{'external_urls': {'spotify': 'https://open.s...</td>\n",
       "      <td>2020-07-14</td>\n",
       "      <td>day</td>\n",
       "      <td>13</td>\n",
       "      <td>[BTS]</td>\n",
       "      <td>[spotify:artist:3Nrfpe0tUJi4K4DXYWgMUX]</td>\n",
       "      <td>https://open.spotify.com/album/1nScVw87kRJiT2b...</td>\n",
       "    </tr>\n",
       "    <tr>\n",
       "      <th>3</th>\n",
       "      <td>MAP OF THE SOUL : 7</td>\n",
       "      <td>5W1XY5ucNATjTULERvXx9j</td>\n",
       "      <td>spotify:album:5W1XY5ucNATjTULERvXx9j</td>\n",
       "      <td>album</td>\n",
       "      <td>album</td>\n",
       "      <td>album</td>\n",
       "      <td>[{'external_urls': {'spotify': 'https://open.s...</td>\n",
       "      <td>2020-02-21</td>\n",
       "      <td>day</td>\n",
       "      <td>20</td>\n",
       "      <td>[BTS]</td>\n",
       "      <td>[spotify:artist:3Nrfpe0tUJi4K4DXYWgMUX]</td>\n",
       "      <td>https://open.spotify.com/album/5W1XY5ucNATjTUL...</td>\n",
       "    </tr>\n",
       "    <tr>\n",
       "      <th>4</th>\n",
       "      <td>MAP OF THE SOUL : PERSONA</td>\n",
       "      <td>2KqlAl1Kl5fZvbFgJ0qFB6</td>\n",
       "      <td>spotify:album:2KqlAl1Kl5fZvbFgJ0qFB6</td>\n",
       "      <td>album</td>\n",
       "      <td>album</td>\n",
       "      <td>album</td>\n",
       "      <td>[{'external_urls': {'spotify': 'https://open.s...</td>\n",
       "      <td>2019-04-12</td>\n",
       "      <td>day</td>\n",
       "      <td>7</td>\n",
       "      <td>[BTS]</td>\n",
       "      <td>[spotify:artist:3Nrfpe0tUJi4K4DXYWgMUX]</td>\n",
       "      <td>https://open.spotify.com/album/2KqlAl1Kl5fZvbF...</td>\n",
       "    </tr>\n",
       "    <tr>\n",
       "      <th>...</th>\n",
       "      <td>...</td>\n",
       "      <td>...</td>\n",
       "      <td>...</td>\n",
       "      <td>...</td>\n",
       "      <td>...</td>\n",
       "      <td>...</td>\n",
       "      <td>...</td>\n",
       "      <td>...</td>\n",
       "      <td>...</td>\n",
       "      <td>...</td>\n",
       "      <td>...</td>\n",
       "      <td>...</td>\n",
       "      <td>...</td>\n",
       "    </tr>\n",
       "    <tr>\n",
       "      <th>19574</th>\n",
       "      <td>Blah Blah Blah</td>\n",
       "      <td>0KaoPehrtwhjQfae6XMd7B</td>\n",
       "      <td>spotify:album:0KaoPehrtwhjQfae6XMd7B</td>\n",
       "      <td>single</td>\n",
       "      <td>single</td>\n",
       "      <td>album</td>\n",
       "      <td>[{'external_urls': {'spotify': 'https://open.s...</td>\n",
       "      <td>2022-09-21</td>\n",
       "      <td>day</td>\n",
       "      <td>1</td>\n",
       "      <td>[ITZY]</td>\n",
       "      <td>[spotify:artist:2KC9Qb60EaY0kW4eH68vr3]</td>\n",
       "      <td>https://open.spotify.com/album/0KaoPehrtwhjQfa...</td>\n",
       "    </tr>\n",
       "    <tr>\n",
       "      <th>19575</th>\n",
       "      <td>Break My Heart Myself (feat. YEJI &amp; RYUJIN of ...</td>\n",
       "      <td>6nHECY2OnWXVmd4QjGhJEm</td>\n",
       "      <td>spotify:album:6nHECY2OnWXVmd4QjGhJEm</td>\n",
       "      <td>single</td>\n",
       "      <td>single</td>\n",
       "      <td>album</td>\n",
       "      <td>[{'external_urls': {'spotify': 'https://open.s...</td>\n",
       "      <td>2022-07-29</td>\n",
       "      <td>day</td>\n",
       "      <td>1</td>\n",
       "      <td>[Bebe Rexha, ITZY]</td>\n",
       "      <td>[spotify:artist:64M6ah0SkkRsnPGtGiRAbb, spotif...</td>\n",
       "      <td>https://open.spotify.com/album/6nHECY2OnWXVmd4...</td>\n",
       "    </tr>\n",
       "    <tr>\n",
       "      <th>19576</th>\n",
       "      <td>Voltage</td>\n",
       "      <td>6BhKPFeQDaBldGMl1vd28h</td>\n",
       "      <td>spotify:album:6BhKPFeQDaBldGMl1vd28h</td>\n",
       "      <td>single</td>\n",
       "      <td>single</td>\n",
       "      <td>album</td>\n",
       "      <td>[{'external_urls': {'spotify': 'https://open.s...</td>\n",
       "      <td>2022-04-06</td>\n",
       "      <td>day</td>\n",
       "      <td>4</td>\n",
       "      <td>[ITZY]</td>\n",
       "      <td>[spotify:artist:2KC9Qb60EaY0kW4eH68vr3]</td>\n",
       "      <td>https://open.spotify.com/album/6BhKPFeQDaBldGM...</td>\n",
       "    </tr>\n",
       "    <tr>\n",
       "      <th>19577</th>\n",
       "      <td>Voltage</td>\n",
       "      <td>3MXVqfk9VG3B757nLlow0D</td>\n",
       "      <td>spotify:album:3MXVqfk9VG3B757nLlow0D</td>\n",
       "      <td>single</td>\n",
       "      <td>single</td>\n",
       "      <td>album</td>\n",
       "      <td>[{'external_urls': {'spotify': 'https://open.s...</td>\n",
       "      <td>2022-03-23</td>\n",
       "      <td>day</td>\n",
       "      <td>1</td>\n",
       "      <td>[ITZY]</td>\n",
       "      <td>[spotify:artist:2KC9Qb60EaY0kW4eH68vr3]</td>\n",
       "      <td>https://open.spotify.com/album/3MXVqfk9VG3B757...</td>\n",
       "    </tr>\n",
       "    <tr>\n",
       "      <th>19578</th>\n",
       "      <td>IT'z ITZY (Japanese ver.)</td>\n",
       "      <td>1VvOaePbpheLTFGUlOb2yE</td>\n",
       "      <td>spotify:album:1VvOaePbpheLTFGUlOb2yE</td>\n",
       "      <td>single</td>\n",
       "      <td>single</td>\n",
       "      <td>album</td>\n",
       "      <td>[{'external_urls': {'spotify': 'https://open.s...</td>\n",
       "      <td>2021-12-22</td>\n",
       "      <td>day</td>\n",
       "      <td>6</td>\n",
       "      <td>[ITZY]</td>\n",
       "      <td>[spotify:artist:2KC9Qb60EaY0kW4eH68vr3]</td>\n",
       "      <td>https://open.spotify.com/album/1VvOaePbpheLTFG...</td>\n",
       "    </tr>\n",
       "  </tbody>\n",
       "</table>\n",
       "<p>19579 rows × 13 columns</p>\n",
       "</div>"
      ],
      "text/plain": [
       "                                                    name  \\\n",
       "0                                                  Proof   \n",
       "1                                                     BE   \n",
       "2                    MAP OF THE SOUL : 7 ~ THE JOURNEY ~   \n",
       "3                                    MAP OF THE SOUL : 7   \n",
       "4                              MAP OF THE SOUL : PERSONA   \n",
       "...                                                  ...   \n",
       "19574                                     Blah Blah Blah   \n",
       "19575  Break My Heart Myself (feat. YEJI & RYUJIN of ...   \n",
       "19576                                            Voltage   \n",
       "19577                                            Voltage   \n",
       "19578                          IT'z ITZY (Japanese ver.)   \n",
       "\n",
       "                           id                                   uri  \\\n",
       "0      6al2VdKbb6FIz9d7lU7WRB  spotify:album:6al2VdKbb6FIz9d7lU7WRB   \n",
       "1      6nYfHQnvkvOTNHnOhDT3sr  spotify:album:6nYfHQnvkvOTNHnOhDT3sr   \n",
       "2      1nScVw87kRJiT2bg2Kswhp  spotify:album:1nScVw87kRJiT2bg2Kswhp   \n",
       "3      5W1XY5ucNATjTULERvXx9j  spotify:album:5W1XY5ucNATjTULERvXx9j   \n",
       "4      2KqlAl1Kl5fZvbFgJ0qFB6  spotify:album:2KqlAl1Kl5fZvbFgJ0qFB6   \n",
       "...                       ...                                   ...   \n",
       "19574  0KaoPehrtwhjQfae6XMd7B  spotify:album:0KaoPehrtwhjQfae6XMd7B   \n",
       "19575  6nHECY2OnWXVmd4QjGhJEm  spotify:album:6nHECY2OnWXVmd4QjGhJEm   \n",
       "19576  6BhKPFeQDaBldGMl1vd28h  spotify:album:6BhKPFeQDaBldGMl1vd28h   \n",
       "19577  3MXVqfk9VG3B757nLlow0D  spotify:album:3MXVqfk9VG3B757nLlow0D   \n",
       "19578  1VvOaePbpheLTFGUlOb2yE  spotify:album:1VvOaePbpheLTFGUlOb2yE   \n",
       "\n",
       "      album_group album_type   type  \\\n",
       "0           album      album  album   \n",
       "1           album      album  album   \n",
       "2           album      album  album   \n",
       "3           album      album  album   \n",
       "4           album      album  album   \n",
       "...           ...        ...    ...   \n",
       "19574      single     single  album   \n",
       "19575      single     single  album   \n",
       "19576      single     single  album   \n",
       "19577      single     single  album   \n",
       "19578      single     single  album   \n",
       "\n",
       "                                                 artists release_date  \\\n",
       "0      [{'external_urls': {'spotify': 'https://open.s...   2022-06-10   \n",
       "1      [{'external_urls': {'spotify': 'https://open.s...   2020-11-20   \n",
       "2      [{'external_urls': {'spotify': 'https://open.s...   2020-07-14   \n",
       "3      [{'external_urls': {'spotify': 'https://open.s...   2020-02-21   \n",
       "4      [{'external_urls': {'spotify': 'https://open.s...   2019-04-12   \n",
       "...                                                  ...          ...   \n",
       "19574  [{'external_urls': {'spotify': 'https://open.s...   2022-09-21   \n",
       "19575  [{'external_urls': {'spotify': 'https://open.s...   2022-07-29   \n",
       "19576  [{'external_urls': {'spotify': 'https://open.s...   2022-04-06   \n",
       "19577  [{'external_urls': {'spotify': 'https://open.s...   2022-03-23   \n",
       "19578  [{'external_urls': {'spotify': 'https://open.s...   2021-12-22   \n",
       "\n",
       "      release_date_precision  total_tracks         artist_name  \\\n",
       "0                        day            35               [BTS]   \n",
       "1                        day             8               [BTS]   \n",
       "2                        day            13               [BTS]   \n",
       "3                        day            20               [BTS]   \n",
       "4                        day             7               [BTS]   \n",
       "...                      ...           ...                 ...   \n",
       "19574                    day             1              [ITZY]   \n",
       "19575                    day             1  [Bebe Rexha, ITZY]   \n",
       "19576                    day             4              [ITZY]   \n",
       "19577                    day             1              [ITZY]   \n",
       "19578                    day             6              [ITZY]   \n",
       "\n",
       "                                              artist_uri  \\\n",
       "0                [spotify:artist:3Nrfpe0tUJi4K4DXYWgMUX]   \n",
       "1                [spotify:artist:3Nrfpe0tUJi4K4DXYWgMUX]   \n",
       "2                [spotify:artist:3Nrfpe0tUJi4K4DXYWgMUX]   \n",
       "3                [spotify:artist:3Nrfpe0tUJi4K4DXYWgMUX]   \n",
       "4                [spotify:artist:3Nrfpe0tUJi4K4DXYWgMUX]   \n",
       "...                                                  ...   \n",
       "19574            [spotify:artist:2KC9Qb60EaY0kW4eH68vr3]   \n",
       "19575  [spotify:artist:64M6ah0SkkRsnPGtGiRAbb, spotif...   \n",
       "19576            [spotify:artist:2KC9Qb60EaY0kW4eH68vr3]   \n",
       "19577            [spotify:artist:2KC9Qb60EaY0kW4eH68vr3]   \n",
       "19578            [spotify:artist:2KC9Qb60EaY0kW4eH68vr3]   \n",
       "\n",
       "                                   external_urls.spotify  \n",
       "0      https://open.spotify.com/album/6al2VdKbb6FIz9d...  \n",
       "1      https://open.spotify.com/album/6nYfHQnvkvOTNHn...  \n",
       "2      https://open.spotify.com/album/1nScVw87kRJiT2b...  \n",
       "3      https://open.spotify.com/album/5W1XY5ucNATjTUL...  \n",
       "4      https://open.spotify.com/album/2KqlAl1Kl5fZvbF...  \n",
       "...                                                  ...  \n",
       "19574  https://open.spotify.com/album/0KaoPehrtwhjQfa...  \n",
       "19575  https://open.spotify.com/album/6nHECY2OnWXVmd4...  \n",
       "19576  https://open.spotify.com/album/6BhKPFeQDaBldGM...  \n",
       "19577  https://open.spotify.com/album/3MXVqfk9VG3B757...  \n",
       "19578  https://open.spotify.com/album/1VvOaePbpheLTFG...  \n",
       "\n",
       "[19579 rows x 13 columns]"
      ]
     },
     "execution_count": 331,
     "metadata": {},
     "output_type": "execute_result"
    }
   ],
   "source": [
    "# album_df_new[album_df_new.uri.duplicated()]\n",
    "add_album_df = pd.json_normalize(album_list)\n",
    "add_album_df"
   ]
  },
  {
   "cell_type": "markdown",
   "id": "42c8e53d-c50a-482b-ba05-ac134a53e5c3",
   "metadata": {
    "tags": []
   },
   "source": [
    "# Extracting individual tracks from albums"
   ]
  },
  {
   "cell_type": "code",
   "execution_count": 158,
   "id": "1ac00af3-986c-4a30-a516-129ffcc0de04",
   "metadata": {
    "tags": []
   },
   "outputs": [],
   "source": [
    "def get_tracks_from_album(curr_album_uri, curr_album_name):\n",
    "    try:\n",
    "        response = sp.album_tracks(curr_album_uri)['items']\n",
    "        tracks_list = []\n",
    "        for song in response:\n",
    "            tracks_list.append({'name': song['name'],\n",
    "                                'album_name': curr_album_name,\n",
    "                                'album_uri': curr_album_uri,\n",
    "                                'artists': song['artists'],\n",
    "                                'uri': song['uri'],\n",
    "                                'id': song['id'],\n",
    "                                'disc_num': song['disc_number'],\n",
    "                                'song_num': song['track_number'],\n",
    "                                'type': song['type'], # probably not necessary\n",
    "                                'duration_ms': song['duration_ms'],\n",
    "                                'explicit': song['explicit'],\n",
    "                                'is_local': song['is_local'],\n",
    "                                'external_urls': song['external_urls'],\n",
    "                                'href': song['href']})\n",
    "        return(tracks_list)\n",
    "    except Exception as e:\n",
    "        print(f\"An error occured: {e}\")\n",
    "        return(None)"
   ]
  },
  {
   "cell_type": "code",
   "execution_count": 160,
   "id": "369eb403-05f3-4c48-9115-f01e22103772",
   "metadata": {
    "tags": []
   },
   "outputs": [
    {
     "name": "stdout",
     "output_type": "stream",
     "text": [
      "album_df len: 35232\n",
      "song_df len: 143984\n"
     ]
    }
   ],
   "source": [
    "# Load in album_df\n",
    "album_df = pd.read_csv('data/album_info.csv')\n",
    "album_df.rename(columns = {'uri': 'album_uri'}, inplace = True)\n",
    "album_tracks = pd.read_csv('data/album_tracks.csv')\n",
    "print(f'album_df len: {len(album_df)}')\n",
    "print(f'song_df len: {len(album_tracks)}')"
   ]
  },
  {
   "cell_type": "code",
   "execution_count": 162,
   "id": "bacb9aa9-934b-468b-b0a3-dcb7a2a244db",
   "metadata": {
    "tags": []
   },
   "outputs": [
    {
     "name": "stdout",
     "output_type": "stream",
     "text": [
      "19765\n"
     ]
    }
   ],
   "source": [
    "missing_album_uris = album_df[~album_df['album_uri'].isin(album_tracks['album_uri'])]\n",
    "print(len(missing_album_uris))"
   ]
  },
  {
   "cell_type": "code",
   "execution_count": null,
   "id": "d5a2c107-8937-4b36-a0bf-eed90349119f",
   "metadata": {},
   "outputs": [],
   "source": [
    "\"\"\"\n",
    "########\n",
    "# Note #\n",
    "########\n",
    "\n",
    "Due to low Spotify user count (which at beginning of development = 0), they set an API call limit on you\n",
    "This allows for about 1000 - 2500 albums to have their song data to be called until they put a temporary freeze on you for about 1 day (~24 hours)\n",
    "\n",
    "\"\"\""
   ]
  },
  {
   "cell_type": "code",
   "execution_count": null,
   "id": "6d604a14-56fe-44b8-b335-89de5356269c",
   "metadata": {},
   "outputs": [],
   "source": [
    "\"\"\"\n",
    " -----------\n",
    "| Completed |\n",
    " -----------\n",
    "\n",
    "5/14/2024 5:42 PM\n",
    "album_df[0:2000].iterrows() -> 311.8622350692749 seconds\n",
    "21334 songs\n",
    "\n",
    "5/15/2024 4:46 PM\n",
    "album_df[2000:4000].iterrows(): -> 425.7372999191284 seconds\n",
    "15457 songs\n",
    "\n",
    "5/23/2024 ~7:30 PM\n",
    "album_df[4000:6000].iterrows(): -> 271.8079960346222 seconds\n",
    "11974 songs\n",
    "\n",
    "5/24/2024 8:14 PM\n",
    "album_df[6000:8000].iterrows(): -> 285.08418321609497 seconds\n",
    "19734 songs\n",
    "\n",
    "5/26/2024 6:45 AM\n",
    "album_df[8000:10000].iterrows(): -> 263.82689666748047 seconds\n",
    "21391 songs\n",
    "\n",
    "5/26/2024 6:24 PM\n",
    "album_df[10000:12000].iterrows(): -> 286.41857385635376 seconds\n",
    "22109 songs\n",
    "__________________________________________________________________ ^ pre album rework\n",
    "\n",
    "Using missing_album_uris\n",
    " -> will always use missing_album_uris[0:2000] because missing_album_uris will always change as the dependent dataframes update\n",
    " \n",
    "Run 1 -> 303.72868824005127 seconds, 17548 songs\n",
    "Run 2 -> 290.0477089881897 seconds, 21237 songs\n",
    "Run 3 ->\n",
    "\n",
    "\"\"\""
   ]
  },
  {
   "cell_type": "code",
   "execution_count": null,
   "id": "73917514-78f5-44f1-969b-42915fb17eff",
   "metadata": {
    "tags": []
   },
   "outputs": [],
   "source": [
    "start_time = time.time()\n",
    "tracks_to_add = []\n",
    "\n",
    "for idx, row in missing_album_uris[0:2000].iterrows():\n",
    "    curr_album_uri = row.album_uri\n",
    "    curr_album_name = row['name']\n",
    "    tracks = get_tracks_from_album(curr_album_uri, curr_album_name)\n",
    "    tracks_to_add.extend(tracks)\n",
    "\n",
    "print(\"--- %s seconds ---\" % (time.time() - start_time))\n",
    "print(f'Length of tracks_to_add: {len(tracks_to_add)} songs')"
   ]
  },
  {
   "cell_type": "code",
   "execution_count": null,
   "id": "ef98907a-3b61-427a-a6e9-796075bec548",
   "metadata": {
    "tags": []
   },
   "outputs": [],
   "source": [
    "album_tracks = pd.read_csv('data/album_tracks.csv')\n",
    "len(album_tracks)"
   ]
  },
  {
   "cell_type": "code",
   "execution_count": 83,
   "id": "d1bd2651-07b1-426d-beda-1dcd71d87383",
   "metadata": {
    "tags": []
   },
   "outputs": [
    {
     "name": "stdout",
     "output_type": "stream",
     "text": [
      "122747\n",
      "143984\n"
     ]
    }
   ],
   "source": [
    "# For the first time #\n",
    "# album_tracks = pd.json_normalize(tracks_to_add)\n",
    "# album_tracks.to_csv('data/album_tracks.csv', index = False)\n",
    "\n",
    "# For additions #\n",
    "add_tracks_df = pd.json_normalize(tracks_to_add)\n",
    "album_tracks_new = pd.concat([album_tracks, add_tracks_df], ignore_index = True)\n",
    "\n",
    "print(len(album_tracks))\n",
    "\n",
    "# cannot simply do album_tracks_new.drop_duplicates\n",
    "#  produced TypeError: unhashable type: 'list'\n",
    "#  most likely from the 'artists' column\n",
    "#  convert list to string, then .drop_duplicates()\n",
    "\n",
    "for col in album_tracks_new.columns:\n",
    "    if album_tracks_new[col].apply(lambda x: isinstance(x, list)).any():\n",
    "        album_tracks_new[col] = album_tracks_new[col].apply(str)\n",
    "\n",
    "album_tracks_new = album_tracks_new.drop_duplicates()        \n",
    "\n",
    "print(len(album_tracks_new))\n",
    "album_tracks_new.to_csv('data/album_tracks.csv', index = False)"
   ]
  },
  {
   "cell_type": "markdown",
   "id": "2d88a06e-1f4a-4683-b2c1-483ddd106eeb",
   "metadata": {
    "tags": []
   },
   "source": [
    "# Audio features"
   ]
  },
  {
   "cell_type": "code",
   "execution_count": null,
   "id": "9b0117e6-dbf6-464f-9424-a75fe2a5d831",
   "metadata": {},
   "outputs": [],
   "source": [
    "\"\"\"\n",
    "_________________________________________________________________\n",
    "\n",
    "start_time = time.time()\n",
    "audio_feats_to_add = []\n",
    "\n",
    "range_start = 0\n",
    "while range_start < 500:\n",
    "    audio_feats_to_add.extend(sp.audio_features(album_tracks.uri[range_start:range_start + 100]))\n",
    "    range_start += 100\n",
    "    \n",
    "print(\"--- %s seconds ---\" % (time.time() - start_time))\n",
    "\n",
    "_________________________________________________________________\n",
    "\n",
    "#############\n",
    "# Completed # -> pre-data_rework\n",
    "#############\n",
    "\n",
    "# album_tracks.uri index -> time it took\n",
    "\n",
    "5/27/2024\n",
    "[0:20000] -> 62.38555073738098 seconds\n",
    "[20000:40000] -> 57.44641590118408 seconds\n",
    "\n",
    "_________________________________________________________________\n",
    "\n",
    "#############\n",
    "# Completed # -> post-date_rework\n",
    "#############\n",
    "\n",
    "Using difference between tracks present in album_tracks and tracks not in feat_df\n",
    "\n",
    "Doing it in chunks of 20k songs\n",
    "\n",
    "Run 1 -> 63.74984288215637 seconds\n",
    "Run 2 -> 63.01819944381714 seconds\n",
    "Run 3 -> ~63 seconds\n",
    "Run 4 -> 63.01237893104553 seconds\n",
    "Run 5 -> 62.35223627090454 seconds\n",
    "\"\"\""
   ]
  },
  {
   "cell_type": "code",
   "execution_count": 156,
   "id": "ca0ffd7b-6e48-47cb-afb0-9aae77d8f35e",
   "metadata": {
    "tags": []
   },
   "outputs": [
    {
     "name": "stdout",
     "output_type": "stream",
     "text": [
      "Length of album_tracks: 143984\n",
      "Length of feat_df: 138823\n"
     ]
    }
   ],
   "source": [
    "album_tracks = pd.read_csv('data/album_tracks.csv')\n",
    "feat_df = pd.read_csv('data/feat_df.csv')\n",
    "print(f'Length of album_tracks: {len(album_tracks)}')\n",
    "print(f'Length of feat_df: {len(feat_df)}')"
   ]
  },
  {
   "cell_type": "code",
   "execution_count": 132,
   "id": "96387259-4575-4e97-aebf-7b77d38d9203",
   "metadata": {
    "tags": []
   },
   "outputs": [
    {
     "data": {
      "text/plain": [
       "Index(['danceability', 'energy', 'key', 'loudness', 'mode', 'speechiness',\n",
       "       'acousticness', 'instrumentalness', 'liveness', 'valence', 'tempo',\n",
       "       'uri', 'track_href', 'analysis_url', 'duration_ms', 'time_signature',\n",
       "       'name', 'album_name', 'album_uri', 'artists'],\n",
       "      dtype='object')"
      ]
     },
     "execution_count": 132,
     "metadata": {},
     "output_type": "execute_result"
    }
   ],
   "source": [
    "# feat_df.drop(columns = ['type', 'id', 'track_href'])\n",
    "feat_df.columns"
   ]
  },
  {
   "cell_type": "code",
   "execution_count": 154,
   "id": "ceb92e2c-55cc-4d5c-9d42-905ba197bf01",
   "metadata": {
    "tags": []
   },
   "outputs": [
    {
     "name": "stdout",
     "output_type": "stream",
     "text": [
      "5161\n"
     ]
    }
   ],
   "source": [
    "missing_track_uris = album_tracks[~album_tracks['uri'].isin(feat_df['uri'])]\n",
    "print(len(missing_track_uris))"
   ]
  },
  {
   "cell_type": "code",
   "execution_count": 116,
   "id": "ffe18fb7-6673-4239-99bf-0119121a239d",
   "metadata": {
    "tags": []
   },
   "outputs": [
    {
     "name": "stdout",
     "output_type": "stream",
     "text": [
      "--- 62.35223627090454 seconds ---\n"
     ]
    }
   ],
   "source": [
    "start_time = time.time()\n",
    "audio_feats_to_add = []\n",
    "\n",
    "# sp.audio_features can only intake 100 ids at a time\n",
    "range_start = 0\n",
    "range_end = 20000\n",
    "while range_start < range_end:\n",
    "    audio_feats_to_add.extend(sp.audio_features(missing_track_uris.uri[range_start:range_start + 100]))\n",
    "    range_start += 100\n",
    "    \n",
    "print(\"--- %s seconds ---\" % (time.time() - start_time))\n",
    "# print(f'Length of to-add song_feats: {len(audio_feats_to_add)}')"
   ]
  },
  {
   "cell_type": "code",
   "execution_count": 150,
   "id": "435c706d-d052-4b7a-879b-72bb4a59d6b8",
   "metadata": {},
   "outputs": [
    {
     "name": "stdout",
     "output_type": "stream",
     "text": [
      "Curr df len: 138823\n",
      "\n",
      "Post concat:\n",
      "-> Pre-clean: 158829\n",
      "-> Post-clean: 138823\n"
     ]
    }
   ],
   "source": [
    "# # # First run\n",
    "# feats_add = pd.json_normalize(audio_feats_to_add)\n",
    "# feat_df_new = pd.merge(feats_add, album_tracks[['uri', 'name', 'album_name', 'album_uri', 'artists']], on='uri', how='left')\n",
    "# print(len(feat_df_new))\n",
    "# feat_df_new.drop_duplicates(inplace = True) # clears duplicates and songs without analysis (returned a JSON full of null values)\n",
    "# feat_df_new.dropna(inplace = True)\n",
    "# print(len(feat_df_new))\n",
    "# feat_df_new.to_csv('data/feat_df.csv', index = False)\n",
    "\n",
    "# # Additions\n",
    "feat_add = pd.json_normalize(audio_feats_to_add)\n",
    "print(f'Curr df len: {len(feat_df)}')\n",
    "feat_df_new = pd.concat([feat_df, feat_add], ignore_index = True)\n",
    "\n",
    "# adding in artist, album data\n",
    "feat_df_new = feat_df_new.merge(album_tracks[['uri', 'name', 'album_name', 'album_uri', 'artists']], on='uri', how='left', suffixes = ('', '_new'))\n",
    "feat_df_new.drop(columns = [\n",
    "    'name', 'album_name', 'album_uri', 'artists', 'id', 'type', 'track_href', 'analysis_url'\n",
    "], inplace = True)\n",
    "feat_df_new.rename(columns = {\n",
    "    'name_new': 'name',\n",
    "    'album_name_new': 'album_name',\n",
    "    'album_uri_new': 'album_uri',\n",
    "    'artists_new': 'artists'\n",
    "}, inplace = True)\n",
    "\n",
    "# Drop duplicates\n",
    "print('\\nPost concat:')\n",
    "print(f'-> Pre-clean: {len(feat_df_new)}')\n",
    "feat_df_new.drop_duplicates(inplace = True) # clears duplicates and songs without analysis (returned a JSON full of null values)\n",
    "feat_df_new.dropna(inplace = True)\n",
    "print(f'-> Post-clean: {len(feat_df_new)}')\n",
    "\n",
    "# Save file\n",
    "# feat_df_new.to_csv('data/feat_df.csv', index = False)"
   ]
  },
  {
   "cell_type": "code",
   "execution_count": 152,
   "id": "b2155cae-ab20-4b7e-a4a9-7c2acf54fee3",
   "metadata": {
    "tags": []
   },
   "outputs": [
    {
     "data": {
      "text/html": [
       "<div>\n",
       "<style scoped>\n",
       "    .dataframe tbody tr th:only-of-type {\n",
       "        vertical-align: middle;\n",
       "    }\n",
       "\n",
       "    .dataframe tbody tr th {\n",
       "        vertical-align: top;\n",
       "    }\n",
       "\n",
       "    .dataframe thead th {\n",
       "        text-align: right;\n",
       "    }\n",
       "</style>\n",
       "<table border=\"1\" class=\"dataframe\">\n",
       "  <thead>\n",
       "    <tr style=\"text-align: right;\">\n",
       "      <th></th>\n",
       "      <th>danceability</th>\n",
       "      <th>energy</th>\n",
       "      <th>key</th>\n",
       "      <th>loudness</th>\n",
       "      <th>mode</th>\n",
       "      <th>speechiness</th>\n",
       "      <th>acousticness</th>\n",
       "      <th>instrumentalness</th>\n",
       "      <th>liveness</th>\n",
       "      <th>valence</th>\n",
       "      <th>tempo</th>\n",
       "      <th>uri</th>\n",
       "      <th>duration_ms</th>\n",
       "      <th>time_signature</th>\n",
       "      <th>name</th>\n",
       "      <th>album_name</th>\n",
       "      <th>album_uri</th>\n",
       "      <th>artists</th>\n",
       "    </tr>\n",
       "  </thead>\n",
       "  <tbody>\n",
       "    <tr>\n",
       "      <th>0</th>\n",
       "      <td>0.602</td>\n",
       "      <td>0.841</td>\n",
       "      <td>8.0</td>\n",
       "      <td>-3.334</td>\n",
       "      <td>0.0</td>\n",
       "      <td>0.1090</td>\n",
       "      <td>0.035400</td>\n",
       "      <td>0.000000</td>\n",
       "      <td>0.2350</td>\n",
       "      <td>0.684</td>\n",
       "      <td>157.937</td>\n",
       "      <td>spotify:track:1IthE5GNiRzFN5CVaCa445</td>\n",
       "      <td>238628.0</td>\n",
       "      <td>4.0</td>\n",
       "      <td>Born Singer</td>\n",
       "      <td>Proof</td>\n",
       "      <td>spotify:album:6al2VdKbb6FIz9d7lU7WRB</td>\n",
       "      <td>[{'external_urls': {'spotify': 'https://open.s...</td>\n",
       "    </tr>\n",
       "    <tr>\n",
       "      <th>1</th>\n",
       "      <td>0.438</td>\n",
       "      <td>0.864</td>\n",
       "      <td>2.0</td>\n",
       "      <td>-5.185</td>\n",
       "      <td>1.0</td>\n",
       "      <td>0.4700</td>\n",
       "      <td>0.011800</td>\n",
       "      <td>0.000002</td>\n",
       "      <td>0.4310</td>\n",
       "      <td>0.594</td>\n",
       "      <td>167.898</td>\n",
       "      <td>spotify:track:27S8iOXD7Z58yvJtyk2S9j</td>\n",
       "      <td>222067.0</td>\n",
       "      <td>4.0</td>\n",
       "      <td>No More Dream</td>\n",
       "      <td>Proof</td>\n",
       "      <td>spotify:album:6al2VdKbb6FIz9d7lU7WRB</td>\n",
       "      <td>[{'external_urls': {'spotify': 'https://open.s...</td>\n",
       "    </tr>\n",
       "    <tr>\n",
       "      <th>2</th>\n",
       "      <td>0.597</td>\n",
       "      <td>0.909</td>\n",
       "      <td>11.0</td>\n",
       "      <td>-4.500</td>\n",
       "      <td>0.0</td>\n",
       "      <td>0.1600</td>\n",
       "      <td>0.044300</td>\n",
       "      <td>0.000000</td>\n",
       "      <td>0.3740</td>\n",
       "      <td>0.564</td>\n",
       "      <td>146.870</td>\n",
       "      <td>spotify:track:2GEnvQgSJhedm2sqZlOP8o</td>\n",
       "      <td>209752.0</td>\n",
       "      <td>4.0</td>\n",
       "      <td>N.O</td>\n",
       "      <td>Proof</td>\n",
       "      <td>spotify:album:6al2VdKbb6FIz9d7lU7WRB</td>\n",
       "      <td>[{'external_urls': {'spotify': 'https://open.s...</td>\n",
       "    </tr>\n",
       "    <tr>\n",
       "      <th>3</th>\n",
       "      <td>0.492</td>\n",
       "      <td>0.931</td>\n",
       "      <td>9.0</td>\n",
       "      <td>-3.837</td>\n",
       "      <td>0.0</td>\n",
       "      <td>0.2970</td>\n",
       "      <td>0.002440</td>\n",
       "      <td>0.000000</td>\n",
       "      <td>0.3530</td>\n",
       "      <td>0.444</td>\n",
       "      <td>166.071</td>\n",
       "      <td>spotify:track:0vMk4IrUfSJQkhwZnVX6us</td>\n",
       "      <td>231384.0</td>\n",
       "      <td>4.0</td>\n",
       "      <td>Boy In Luv</td>\n",
       "      <td>Proof</td>\n",
       "      <td>spotify:album:6al2VdKbb6FIz9d7lU7WRB</td>\n",
       "      <td>[{'external_urls': {'spotify': 'https://open.s...</td>\n",
       "    </tr>\n",
       "    <tr>\n",
       "      <th>4</th>\n",
       "      <td>0.734</td>\n",
       "      <td>0.848</td>\n",
       "      <td>1.0</td>\n",
       "      <td>-4.433</td>\n",
       "      <td>1.0</td>\n",
       "      <td>0.1020</td>\n",
       "      <td>0.000913</td>\n",
       "      <td>0.000247</td>\n",
       "      <td>0.2560</td>\n",
       "      <td>0.370</td>\n",
       "      <td>112.021</td>\n",
       "      <td>spotify:track:0Q53fuiKLGjDKD7Mme7EoQ</td>\n",
       "      <td>245810.0</td>\n",
       "      <td>4.0</td>\n",
       "      <td>Danger</td>\n",
       "      <td>Proof</td>\n",
       "      <td>spotify:album:6al2VdKbb6FIz9d7lU7WRB</td>\n",
       "      <td>[{'external_urls': {'spotify': 'https://open.s...</td>\n",
       "    </tr>\n",
       "    <tr>\n",
       "      <th>...</th>\n",
       "      <td>...</td>\n",
       "      <td>...</td>\n",
       "      <td>...</td>\n",
       "      <td>...</td>\n",
       "      <td>...</td>\n",
       "      <td>...</td>\n",
       "      <td>...</td>\n",
       "      <td>...</td>\n",
       "      <td>...</td>\n",
       "      <td>...</td>\n",
       "      <td>...</td>\n",
       "      <td>...</td>\n",
       "      <td>...</td>\n",
       "      <td>...</td>\n",
       "      <td>...</td>\n",
       "      <td>...</td>\n",
       "      <td>...</td>\n",
       "      <td>...</td>\n",
       "    </tr>\n",
       "    <tr>\n",
       "      <th>138824</th>\n",
       "      <td>0.502</td>\n",
       "      <td>0.545</td>\n",
       "      <td>7.0</td>\n",
       "      <td>-6.386</td>\n",
       "      <td>1.0</td>\n",
       "      <td>0.3790</td>\n",
       "      <td>0.024400</td>\n",
       "      <td>0.001480</td>\n",
       "      <td>0.3350</td>\n",
       "      <td>0.204</td>\n",
       "      <td>120.826</td>\n",
       "      <td>spotify:track:1bOvOZbpwVDDpLMmagxLEo</td>\n",
       "      <td>198508.0</td>\n",
       "      <td>4.0</td>\n",
       "      <td>No Love</td>\n",
       "      <td>By Any Means 2</td>\n",
       "      <td>spotify:album:3wcPvgkFRb42NQamzvzKz9</td>\n",
       "      <td>[{'external_urls': {'spotify': 'https://open.s...</td>\n",
       "    </tr>\n",
       "    <tr>\n",
       "      <th>138825</th>\n",
       "      <td>0.809</td>\n",
       "      <td>0.560</td>\n",
       "      <td>10.0</td>\n",
       "      <td>-7.114</td>\n",
       "      <td>0.0</td>\n",
       "      <td>0.4900</td>\n",
       "      <td>0.036600</td>\n",
       "      <td>0.000000</td>\n",
       "      <td>0.2670</td>\n",
       "      <td>0.418</td>\n",
       "      <td>146.940</td>\n",
       "      <td>spotify:track:5CGG5T4TQSggqIATy5eHPb</td>\n",
       "      <td>196255.0</td>\n",
       "      <td>4.0</td>\n",
       "      <td>McGyver</td>\n",
       "      <td>By Any Means 2</td>\n",
       "      <td>spotify:album:3wcPvgkFRb42NQamzvzKz9</td>\n",
       "      <td>[{'external_urls': {'spotify': 'https://open.s...</td>\n",
       "    </tr>\n",
       "    <tr>\n",
       "      <th>138826</th>\n",
       "      <td>0.742</td>\n",
       "      <td>0.689</td>\n",
       "      <td>10.0</td>\n",
       "      <td>-5.812</td>\n",
       "      <td>0.0</td>\n",
       "      <td>0.2810</td>\n",
       "      <td>0.091500</td>\n",
       "      <td>0.000000</td>\n",
       "      <td>0.0768</td>\n",
       "      <td>0.207</td>\n",
       "      <td>121.982</td>\n",
       "      <td>spotify:track:6Y0kwGULORFXHzwOBUlMqf</td>\n",
       "      <td>219802.0</td>\n",
       "      <td>4.0</td>\n",
       "      <td>Had To</td>\n",
       "      <td>By Any Means 2</td>\n",
       "      <td>spotify:album:3wcPvgkFRb42NQamzvzKz9</td>\n",
       "      <td>[{'external_urls': {'spotify': 'https://open.s...</td>\n",
       "    </tr>\n",
       "    <tr>\n",
       "      <th>138827</th>\n",
       "      <td>0.739</td>\n",
       "      <td>0.570</td>\n",
       "      <td>1.0</td>\n",
       "      <td>-7.322</td>\n",
       "      <td>0.0</td>\n",
       "      <td>0.0741</td>\n",
       "      <td>0.113000</td>\n",
       "      <td>0.000000</td>\n",
       "      <td>0.1180</td>\n",
       "      <td>0.802</td>\n",
       "      <td>108.899</td>\n",
       "      <td>spotify:track:5i7jTSYQ2tkBHMZ96ZCb7C</td>\n",
       "      <td>198165.0</td>\n",
       "      <td>4.0</td>\n",
       "      <td>Fuckin Right</td>\n",
       "      <td>By Any Means 2</td>\n",
       "      <td>spotify:album:3wcPvgkFRb42NQamzvzKz9</td>\n",
       "      <td>[{'external_urls': {'spotify': 'https://open.s...</td>\n",
       "    </tr>\n",
       "    <tr>\n",
       "      <th>138828</th>\n",
       "      <td>0.725</td>\n",
       "      <td>0.740</td>\n",
       "      <td>11.0</td>\n",
       "      <td>-5.414</td>\n",
       "      <td>0.0</td>\n",
       "      <td>0.2610</td>\n",
       "      <td>0.047800</td>\n",
       "      <td>0.000000</td>\n",
       "      <td>0.3250</td>\n",
       "      <td>0.560</td>\n",
       "      <td>122.839</td>\n",
       "      <td>spotify:track:3fFMwoU0tS2IqfRCGNOMP1</td>\n",
       "      <td>187317.0</td>\n",
       "      <td>4.0</td>\n",
       "      <td>Beautiful Scars (feat. PnB Rock)</td>\n",
       "      <td>By Any Means 2</td>\n",
       "      <td>spotify:album:3wcPvgkFRb42NQamzvzKz9</td>\n",
       "      <td>[{'external_urls': {'spotify': 'https://open.s...</td>\n",
       "    </tr>\n",
       "  </tbody>\n",
       "</table>\n",
       "<p>138823 rows × 18 columns</p>\n",
       "</div>"
      ],
      "text/plain": [
       "        danceability  energy   key  loudness  mode  speechiness  acousticness  \\\n",
       "0              0.602   0.841   8.0    -3.334   0.0       0.1090      0.035400   \n",
       "1              0.438   0.864   2.0    -5.185   1.0       0.4700      0.011800   \n",
       "2              0.597   0.909  11.0    -4.500   0.0       0.1600      0.044300   \n",
       "3              0.492   0.931   9.0    -3.837   0.0       0.2970      0.002440   \n",
       "4              0.734   0.848   1.0    -4.433   1.0       0.1020      0.000913   \n",
       "...              ...     ...   ...       ...   ...          ...           ...   \n",
       "138824         0.502   0.545   7.0    -6.386   1.0       0.3790      0.024400   \n",
       "138825         0.809   0.560  10.0    -7.114   0.0       0.4900      0.036600   \n",
       "138826         0.742   0.689  10.0    -5.812   0.0       0.2810      0.091500   \n",
       "138827         0.739   0.570   1.0    -7.322   0.0       0.0741      0.113000   \n",
       "138828         0.725   0.740  11.0    -5.414   0.0       0.2610      0.047800   \n",
       "\n",
       "        instrumentalness  liveness  valence    tempo  \\\n",
       "0               0.000000    0.2350    0.684  157.937   \n",
       "1               0.000002    0.4310    0.594  167.898   \n",
       "2               0.000000    0.3740    0.564  146.870   \n",
       "3               0.000000    0.3530    0.444  166.071   \n",
       "4               0.000247    0.2560    0.370  112.021   \n",
       "...                  ...       ...      ...      ...   \n",
       "138824          0.001480    0.3350    0.204  120.826   \n",
       "138825          0.000000    0.2670    0.418  146.940   \n",
       "138826          0.000000    0.0768    0.207  121.982   \n",
       "138827          0.000000    0.1180    0.802  108.899   \n",
       "138828          0.000000    0.3250    0.560  122.839   \n",
       "\n",
       "                                         uri  duration_ms  time_signature  \\\n",
       "0       spotify:track:1IthE5GNiRzFN5CVaCa445     238628.0             4.0   \n",
       "1       spotify:track:27S8iOXD7Z58yvJtyk2S9j     222067.0             4.0   \n",
       "2       spotify:track:2GEnvQgSJhedm2sqZlOP8o     209752.0             4.0   \n",
       "3       spotify:track:0vMk4IrUfSJQkhwZnVX6us     231384.0             4.0   \n",
       "4       spotify:track:0Q53fuiKLGjDKD7Mme7EoQ     245810.0             4.0   \n",
       "...                                      ...          ...             ...   \n",
       "138824  spotify:track:1bOvOZbpwVDDpLMmagxLEo     198508.0             4.0   \n",
       "138825  spotify:track:5CGG5T4TQSggqIATy5eHPb     196255.0             4.0   \n",
       "138826  spotify:track:6Y0kwGULORFXHzwOBUlMqf     219802.0             4.0   \n",
       "138827  spotify:track:5i7jTSYQ2tkBHMZ96ZCb7C     198165.0             4.0   \n",
       "138828  spotify:track:3fFMwoU0tS2IqfRCGNOMP1     187317.0             4.0   \n",
       "\n",
       "                                    name      album_name  \\\n",
       "0                            Born Singer           Proof   \n",
       "1                          No More Dream           Proof   \n",
       "2                                    N.O           Proof   \n",
       "3                             Boy In Luv           Proof   \n",
       "4                                 Danger           Proof   \n",
       "...                                  ...             ...   \n",
       "138824                           No Love  By Any Means 2   \n",
       "138825                           McGyver  By Any Means 2   \n",
       "138826                            Had To  By Any Means 2   \n",
       "138827                      Fuckin Right  By Any Means 2   \n",
       "138828  Beautiful Scars (feat. PnB Rock)  By Any Means 2   \n",
       "\n",
       "                                   album_uri  \\\n",
       "0       spotify:album:6al2VdKbb6FIz9d7lU7WRB   \n",
       "1       spotify:album:6al2VdKbb6FIz9d7lU7WRB   \n",
       "2       spotify:album:6al2VdKbb6FIz9d7lU7WRB   \n",
       "3       spotify:album:6al2VdKbb6FIz9d7lU7WRB   \n",
       "4       spotify:album:6al2VdKbb6FIz9d7lU7WRB   \n",
       "...                                      ...   \n",
       "138824  spotify:album:3wcPvgkFRb42NQamzvzKz9   \n",
       "138825  spotify:album:3wcPvgkFRb42NQamzvzKz9   \n",
       "138826  spotify:album:3wcPvgkFRb42NQamzvzKz9   \n",
       "138827  spotify:album:3wcPvgkFRb42NQamzvzKz9   \n",
       "138828  spotify:album:3wcPvgkFRb42NQamzvzKz9   \n",
       "\n",
       "                                                  artists  \n",
       "0       [{'external_urls': {'spotify': 'https://open.s...  \n",
       "1       [{'external_urls': {'spotify': 'https://open.s...  \n",
       "2       [{'external_urls': {'spotify': 'https://open.s...  \n",
       "3       [{'external_urls': {'spotify': 'https://open.s...  \n",
       "4       [{'external_urls': {'spotify': 'https://open.s...  \n",
       "...                                                   ...  \n",
       "138824  [{'external_urls': {'spotify': 'https://open.s...  \n",
       "138825  [{'external_urls': {'spotify': 'https://open.s...  \n",
       "138826  [{'external_urls': {'spotify': 'https://open.s...  \n",
       "138827  [{'external_urls': {'spotify': 'https://open.s...  \n",
       "138828  [{'external_urls': {'spotify': 'https://open.s...  \n",
       "\n",
       "[138823 rows x 18 columns]"
      ]
     },
     "execution_count": 152,
     "metadata": {},
     "output_type": "execute_result"
    }
   ],
   "source": [
    "feat_df_new"
   ]
  },
  {
   "cell_type": "markdown",
   "id": "22d457d5-6002-45d7-b394-a8b4f94af730",
   "metadata": {},
   "source": [
    "## Debugging"
   ]
  },
  {
   "cell_type": "markdown",
   "id": "c3751ef2-771d-4c64-bade-01cf6c19a067",
   "metadata": {
    "jp-MarkdownHeadingCollapsed": true,
    "tags": []
   },
   "source": [
    "### Missing, null, duplicates"
   ]
  },
  {
   "cell_type": "code",
   "execution_count": 660,
   "id": "c5fd16f1-08ae-4498-b73b-17bbc8383d21",
   "metadata": {
    "tags": []
   },
   "outputs": [
    {
     "data": {
      "text/html": [
       "<div>\n",
       "<style scoped>\n",
       "    .dataframe tbody tr th:only-of-type {\n",
       "        vertical-align: middle;\n",
       "    }\n",
       "\n",
       "    .dataframe tbody tr th {\n",
       "        vertical-align: top;\n",
       "    }\n",
       "\n",
       "    .dataframe thead th {\n",
       "        text-align: right;\n",
       "    }\n",
       "</style>\n",
       "<table border=\"1\" class=\"dataframe\">\n",
       "  <thead>\n",
       "    <tr style=\"text-align: right;\">\n",
       "      <th></th>\n",
       "      <th>danceability</th>\n",
       "      <th>energy</th>\n",
       "      <th>key</th>\n",
       "      <th>loudness</th>\n",
       "      <th>mode</th>\n",
       "      <th>speechiness</th>\n",
       "      <th>acousticness</th>\n",
       "      <th>instrumentalness</th>\n",
       "      <th>liveness</th>\n",
       "      <th>valence</th>\n",
       "      <th>...</th>\n",
       "      <th>id</th>\n",
       "      <th>uri</th>\n",
       "      <th>track_href</th>\n",
       "      <th>analysis_url</th>\n",
       "      <th>duration_ms</th>\n",
       "      <th>time_signature</th>\n",
       "      <th>name</th>\n",
       "      <th>alubm_name</th>\n",
       "      <th>album_uri</th>\n",
       "      <th>artists</th>\n",
       "    </tr>\n",
       "  </thead>\n",
       "  <tbody>\n",
       "  </tbody>\n",
       "</table>\n",
       "<p>0 rows × 22 columns</p>\n",
       "</div>"
      ],
      "text/plain": [
       "Empty DataFrame\n",
       "Columns: [danceability, energy, key, loudness, mode, speechiness, acousticness, instrumentalness, liveness, valence, tempo, type, id, uri, track_href, analysis_url, duration_ms, time_signature, name, alubm_name, album_uri, artists]\n",
       "Index: []\n",
       "\n",
       "[0 rows x 22 columns]"
      ]
     },
     "execution_count": 660,
     "metadata": {},
     "output_type": "execute_result"
    }
   ],
   "source": [
    "feat_df_new[feat_df_new.isnull().any(axis = 1)]"
   ]
  },
  {
   "cell_type": "code",
   "execution_count": 670,
   "id": "40fb45fb-0f77-4844-bbf9-e130bd507dcd",
   "metadata": {
    "tags": []
   },
   "outputs": [
    {
     "data": {
      "text/plain": [
       "danceability                                                    0.513\n",
       "energy                                                           0.25\n",
       "key                                                               5.0\n",
       "loudness                                                       -9.376\n",
       "mode                                                              0.0\n",
       "speechiness                                                    0.0367\n",
       "acousticness                                                    0.913\n",
       "instrumentalness                                                  0.0\n",
       "liveness                                                        0.117\n",
       "valence                                                         0.351\n",
       "tempo                                                          74.103\n",
       "type                                                   audio_features\n",
       "id                                             0pqTqDgxR1fcKZuBxgJ2QL\n",
       "uri                              spotify:track:0pqTqDgxR1fcKZuBxgJ2QL\n",
       "track_href          https://api.spotify.com/v1/tracks/0pqTqDgxR1fc...\n",
       "analysis_url        https://api.spotify.com/v1/audio-analysis/0pqT...\n",
       "duration_ms                                                  220541.0\n",
       "time_signature                                                    4.0\n",
       "name                                                              NaN\n",
       "album_name                                                        NaN\n",
       "album_uri                                                         NaN\n",
       "artists                                                           NaN\n",
       "Name: 20001, dtype: object"
      ]
     },
     "execution_count": 670,
     "metadata": {},
     "output_type": "execute_result"
    }
   ],
   "source": [
    "feat_df_new.iloc[-1]"
   ]
  },
  {
   "cell_type": "code",
   "execution_count": 658,
   "id": "425cc0ce-bf91-4df0-bbde-1585c80b039f",
   "metadata": {
    "tags": []
   },
   "outputs": [
    {
     "data": {
      "text/plain": [
       "name                                                                 Sorry\n",
       "album_name                                hopeless fountain kingdom (Plus)\n",
       "album_uri                             spotify:album:5gnbGc6VR6SeHCbx0DV67s\n",
       "artists                  [{'external_urls': {'spotify': 'https://open.s...\n",
       "uri                                   spotify:track:0pqTqDgxR1fcKZuBxgJ2QL\n",
       "id                                                  0pqTqDgxR1fcKZuBxgJ2QL\n",
       "disc_num                                                                 1\n",
       "song_num                                                                 6\n",
       "type                                                                 track\n",
       "duration_ms                                                         220540\n",
       "explicit                                                             False\n",
       "is_local                                                             False\n",
       "href                     https://api.spotify.com/v1/tracks/0pqTqDgxR1fc...\n",
       "external_urls.spotify    https://open.spotify.com/track/0pqTqDgxR1fcKZu...\n",
       "Name: 39999, dtype: object"
      ]
     },
     "execution_count": 658,
     "metadata": {},
     "output_type": "execute_result"
    }
   ],
   "source": [
    "album_tracks[20000:40000].iloc[-1]"
   ]
  },
  {
   "cell_type": "markdown",
   "id": "b21bf5ff-bc1e-4ef7-90cb-613c65591f2c",
   "metadata": {
    "tags": []
   },
   "source": [
    "### Data structure"
   ]
  },
  {
   "cell_type": "markdown",
   "id": "ee98cfa7-4e8f-47a6-aa78-dac01186bec5",
   "metadata": {
    "jp-MarkdownHeadingCollapsed": true,
    "tags": []
   },
   "source": [
    "# Audio analyses"
   ]
  },
  {
   "cell_type": "code",
   "execution_count": null,
   "id": "cc9fab9c-6efe-498f-a1ca-f5a45e7fdd30",
   "metadata": {},
   "outputs": [],
   "source": [
    "\"\"\"\n",
    "the audio analyses obtained with sp.audio_analysis(uri) contains \"more technical\" information than audio features\n",
    "however, this data is only useful if you have a high and technical understanding of music and the echoprint system\n",
    "\n",
    "most of the legible and \"useful\" data are already present in audio features\n",
    "\"\"\""
   ]
  },
  {
   "cell_type": "markdown",
   "id": "add95ecb-8080-48fc-9cb2-ba06dc90cdb3",
   "metadata": {},
   "source": [
    "# Misc"
   ]
  },
  {
   "cell_type": "code",
   "execution_count": null,
   "id": "1147e5d7-997f-47ac-96e0-ea32df1eef07",
   "metadata": {},
   "outputs": [],
   "source": []
  }
 ],
 "metadata": {
  "kernelspec": {
   "display_name": "Python 3 (ipykernel)",
   "language": "python",
   "name": "python3"
  },
  "language_info": {
   "codemirror_mode": {
    "name": "ipython",
    "version": 3
   },
   "file_extension": ".py",
   "mimetype": "text/x-python",
   "name": "python",
   "nbconvert_exporter": "python",
   "pygments_lexer": "ipython3",
   "version": "3.11.7"
  }
 },
 "nbformat": 4,
 "nbformat_minor": 5
}
